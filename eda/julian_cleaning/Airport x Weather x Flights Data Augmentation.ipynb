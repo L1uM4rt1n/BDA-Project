{
 "cells": [
  {
   "cell_type": "markdown",
   "id": "694f92d9",
   "metadata": {},
   "source": [
    "# Imports"
   ]
  },
  {
   "cell_type": "code",
   "execution_count": 1,
   "id": "d16bbfaf",
   "metadata": {},
   "outputs": [],
   "source": [
    "import pandas as pd\n",
    "import time\n",
    "import requests\n",
    "import json\n",
    "import numpy as np"
   ]
  },
  {
   "cell_type": "markdown",
   "id": "191f36fb",
   "metadata": {},
   "source": [
    "# Load data"
   ]
  },
  {
   "cell_type": "code",
   "execution_count": 2,
   "id": "dcf71b11",
   "metadata": {},
   "outputs": [],
   "source": [
    "df_unprocessed = pd.read_csv('df_cleaned_non_cancelled.csv', parse_dates=['DepDateTime', 'ArrDateTime', 'CRSArrDateTime', 'CRSDepDateTime'], date_format='%d-%m-%Y %H%M')\n",
    "df_unprocessed.drop(columns=['Unnamed: 0'], inplace=True)"
   ]
  },
  {
   "cell_type": "markdown",
   "id": "22669cd5",
   "metadata": {},
   "source": [
    "# Add Airport Coord + Region"
   ]
  },
  {
   "cell_type": "code",
   "execution_count": 16,
   "id": "b59f43f6",
   "metadata": {
    "scrolled": true
   },
   "outputs": [
    {
     "name": "stdout",
     "output_type": "stream",
     "text": [
      "         TotalDelayDuration  ActualElapsedTime  AirTime  ArrDelay  ArrTime  \\\n",
      "0                       9.0              154.0    122.0      90.0   1850.0   \n",
      "1                      -1.0              293.0    272.0      -1.0   1543.0   \n",
      "2                       1.0              121.0    101.0      -6.0    809.0   \n",
      "3                       6.0              162.0    142.0       5.0   1001.0   \n",
      "4                     -21.0              113.0     92.0     -25.0   1534.0   \n",
      "...                     ...                ...      ...       ...      ...   \n",
      "2681775                 7.0              127.0    111.0      14.0   1624.0   \n",
      "2681776                12.0              228.0    205.0      20.0   1651.0   \n",
      "2681777               -19.0              183.0    164.0     -23.0   1604.0   \n",
      "2681778                 1.0              124.0     98.0      -6.0   1042.0   \n",
      "2681779                 7.0              157.0    124.0      18.0      3.0   \n",
      "\n",
      "         CRSArrTime  CRSDepTime  CRSElapsedTime  CancellationCode  Cancelled  \\\n",
      "0              1720        1455           145.0               NaN          0   \n",
      "1              1544         750           294.0               NaN          0   \n",
      "2               815         715           120.0               NaN          0   \n",
      "3               956         820           156.0               NaN          0   \n",
      "4              1559        1345           134.0               NaN          0   \n",
      "...             ...         ...             ...               ...        ...   \n",
      "2681775        1610        1310           120.0               NaN          0   \n",
      "2681776        1631         955           216.0               NaN          0   \n",
      "2681777        1627        1405           202.0               NaN          0   \n",
      "2681778        1048         745           123.0               NaN          0   \n",
      "2681779        2345        2015           150.0               NaN          0   \n",
      "\n",
      "         ...  CRSMonthDep  CRSYearArr  CRSYearDep         DepDateTime  \\\n",
      "0        ...            6        2006        2006 2006-06-21 16:16:00   \n",
      "1        ...            5        2007        2007 2007-05-08 07:50:00   \n",
      "2        ...            3        2007        2007 2007-03-16 07:08:00   \n",
      "3        ...           10        2006        2006 2006-10-22 08:19:00   \n",
      "4        ...            8        2004        2004 2004-08-15 13:41:00   \n",
      "...      ...          ...         ...         ...                 ...   \n",
      "2681775  ...           12        2006        2006 2006-12-12 13:17:00   \n",
      "2681776  ...           10        2007        2007 2007-10-24 10:03:00   \n",
      "2681777  ...            4        2004        2004 2004-04-02 14:01:00   \n",
      "2681778  ...            8        2006        2006 2006-08-30 07:38:00   \n",
      "2681779  ...           12        2005        2005 2005-12-13 20:26:00   \n",
      "\n",
      "             ArrDateTime   CRSArrDateTime      CRSDepDateTime            Lat  \\\n",
      "0         21-6-2006 1850   21-6-2006 1720 2006-06-21 14:55:00    41.97859955   \n",
      "1          8-5-2007 1543    8-5-2007 1544 2007-05-08 07:50:00    33.94250107   \n",
      "2         16-3-2007 0809   16-3-2007 0815 2007-03-16 07:15:00    29.64539909   \n",
      "3        22-10-2006 1001  22-10-2006 0956 2006-10-22 08:20:00  35.0424003601   \n",
      "4         15-8-2004 1534   15-8-2004 1559 2004-08-15 13:45:00  33.6366996765   \n",
      "...                  ...              ...                 ...            ...   \n",
      "2681775  12-12-2006 1624  12-12-2006 1610 2006-12-12 13:10:00    41.97859955   \n",
      "2681776  24-10-2007 1651  24-10-2007 1631 2007-10-24 09:55:00   33.434299469   \n",
      "2681777    2-4-2004 1604    2-4-2004 1627 2004-04-02 14:05:00    39.17539978   \n",
      "2681778   30-8-2006 1042   30-8-2006 1048 2006-08-30 07:45:00  39.4990997314   \n",
      "2681779  14-12-2005 0003  13-12-2005 2345 2005-12-13 20:15:00  47.4490013123   \n",
      "\n",
      "                    Long      Region  \n",
      "0           -87.90480042    Illinois  \n",
      "1           -118.4079971  California  \n",
      "2           -95.27890015       Texas  \n",
      "3         -89.9766998291   Tennessee  \n",
      "4         -84.4281005859     Georgia  \n",
      "...                  ...         ...  \n",
      "2681775     -87.90480042    Illinois  \n",
      "2681776  -112.0120010376     Arizona  \n",
      "2681777     -76.66829681    Maryland  \n",
      "2681778  -119.7679977417      Nevada  \n",
      "2681779  -122.3089981079  Washington  \n",
      "\n",
      "[2681780 rows x 46 columns]\n"
     ]
    }
   ],
   "source": [
    "airport_coord_file = open(\"airport_coord.json\")\n",
    "\n",
    "coord_data = json.load(airport_coord_file)\n",
    "\n",
    "# for airport in cleaned_df[\"Origin\"]:\n",
    "#     for code, info in coord_data.items():\n",
    "#         if code == airport:\n",
    "#             cleaned_df[\"Lat\"] = info.get(\"latitude\")\n",
    "#             cleaned_df[\"Long\"] = info.get(\"longitude\")\n",
    "#             cleaned_df[\"Region\"] = info.get(\"region\")\n",
    "\n",
    "def add_airport_info(cleaned_df, coord_data):\n",
    "    airport_info_by_code = {code: info for code, info in coord_data.items()}\n",
    "\n",
    "    if pd.api.types.is_string_dtype(cleaned_df['Origin']):\n",
    "        mask = cleaned_df['Origin'].isin(airport_info_by_code.keys())\n",
    "        def get_airport_info(airport):\n",
    "            info = airport_info_by_code.get(airport)\n",
    "            return info if info is not None else {'latitude': None, 'longitude': None, 'region': None}\n",
    "        cleaned_df.loc[mask, 'Lat'] = cleaned_df[mask]['Origin'].apply(get_airport_info).apply(lambda x: x['latitude'])\n",
    "        cleaned_df.loc[mask, 'Long'] = cleaned_df[mask]['Origin'].apply(get_airport_info).apply(lambda x: x['longitude'])\n",
    "        cleaned_df.loc[mask, 'Region'] = cleaned_df[mask]['Origin'].apply(get_airport_info).apply(lambda x: x['region'])\n",
    "    else:\n",
    "        for i, airport in cleaned_df['Origin'].items():\n",
    "          if airport in airport_info_by_code:\n",
    "            cleaned_df.loc[i, 'Lat'] = airport_info_by_code[airport].get('latitude')\n",
    "            cleaned_df.loc[i, 'Long'] = airport_info_by_code[airport].get('longitude')\n",
    "        cleaned_df.loc[i, 'Region'] = airport_info_by_code[airport].get('region')\n",
    "\n",
    "    return cleaned_df\n",
    "\n",
    "cleaned_df = add_airport_info(df_unprocessed.copy(), coord_data.copy())\n",
    "print(cleaned_df)\n",
    "\n",
    "airport_coord_file.close()"
   ]
  },
  {
   "cell_type": "code",
   "execution_count": 18,
   "id": "03d0f0fd",
   "metadata": {
    "scrolled": true
   },
   "outputs": [
    {
     "data": {
      "text/plain": [
       "TotalDelayDuration                   -1.0\n",
       "ActualElapsedTime                   293.0\n",
       "AirTime                             272.0\n",
       "ArrDelay                             -1.0\n",
       "ArrTime                            1543.0\n",
       "CRSArrTime                           1544\n",
       "CRSDepTime                            750\n",
       "CRSElapsedTime                      294.0\n",
       "CancellationCode                      NaN\n",
       "Cancelled                               0\n",
       "CarrierDelay                          0.0\n",
       "DayOfWeek                               2\n",
       "DayOfMonthDep                           8\n",
       "DepDelay                              0.0\n",
       "DepTime                             750.0\n",
       "Dest                                  IAD\n",
       "Distance                           2288.0\n",
       "Diverted                                0\n",
       "FlightNum                             946\n",
       "LateAircraftDelay                     0.0\n",
       "MonthDep                                5\n",
       "NASDelay                              0.0\n",
       "Origin                                LAX\n",
       "SecurityDelay                         0.0\n",
       "TailNum                            N788UA\n",
       "TaxiIn                                8.0\n",
       "TaxiOut                              13.0\n",
       "UniqueCarrier                          UA\n",
       "WeatherDelay                          0.0\n",
       "YearDep                              2007\n",
       "DayOfMonthArr                           8\n",
       "MonthArr                                5\n",
       "YearArr                              2007\n",
       "CRSDayOfMonthArr                        8\n",
       "CRSDayOfMonthDep                        8\n",
       "CRSMonthArr                             5\n",
       "CRSMonthDep                             5\n",
       "CRSYearArr                           2007\n",
       "CRSYearDep                           2007\n",
       "DepDateTime           2007-05-08 07:50:00\n",
       "ArrDateTime                 8-5-2007 1543\n",
       "CRSArrDateTime              8-5-2007 1544\n",
       "CRSDepDateTime        2007-05-08 07:50:00\n",
       "Lat                           33.94250107\n",
       "Long                         -118.4079971\n",
       "Region                         California\n",
       "Name: 1, dtype: object"
      ]
     },
     "execution_count": 18,
     "metadata": {},
     "output_type": "execute_result"
    }
   ],
   "source": [
    "cleaned_df.iloc[1]"
   ]
  },
  {
   "cell_type": "code",
   "execution_count": null,
   "id": "51a01fe4",
   "metadata": {},
   "outputs": [],
   "source": [
    "df = cleaned_df.copy()"
   ]
  },
  {
   "cell_type": "markdown",
   "id": "ecc6f089",
   "metadata": {},
   "source": [
    "# Airport Coord"
   ]
  },
  {
   "cell_type": "code",
   "execution_count": null,
   "id": "1f5a156c",
   "metadata": {},
   "outputs": [],
   "source": [
    "import requests\n",
    "\n",
    "header = {\"X-Api-Key\":\"lf/2O0WcstK5VeRxvvASdA==tinCbr385akwLFVh\"}\n",
    "\n",
    "airport_coord = {}\n",
    "list_failed = []\n",
    "\n",
    "for iata in list(df.Origin.unique()):\n",
    "    url = f'https://api.api-ninjas.com/v1/airports?iata={iata}'\n",
    "\n",
    "    data = requests.get(url, headers=header).json()\n",
    "    try:\n",
    "        lat = data[0]['latitude']\n",
    "        long = data[0]['longitude']\n",
    "        region = data[0]['region']\n",
    "        airport_coord[iata] = {\n",
    "            'latitude' : lat,\n",
    "            'longitude' : long,\n",
    "            'region' : region\n",
    "        }\n",
    "    except:\n",
    "        print(f\"iata : {iata}\")\n",
    "        list_failed.append(iata)\n",
    "airport_coord"
   ]
  },
  {
   "cell_type": "code",
   "execution_count": null,
   "id": "3116b639",
   "metadata": {},
   "outputs": [],
   "source": [
    "list_failed"
   ]
  },
  {
   "cell_type": "code",
   "execution_count": null,
   "id": "76315744",
   "metadata": {},
   "outputs": [],
   "source": [
    "code = 'MTH'\n",
    "\n",
    "airport_coord[code] = {\n",
    "    'latitude': '24.722330444',\n",
    "    'longitude': '-81.05083313',\n",
    "    'region': 'Florida'\n",
    "}"
   ]
  },
  {
   "cell_type": "code",
   "execution_count": null,
   "id": "4c519f3d",
   "metadata": {},
   "outputs": [],
   "source": [
    "for i in list(df.Origin.unique()):\n",
    "    if i not in airport_coord:\n",
    "        print(i)"
   ]
  },
  {
   "cell_type": "code",
   "execution_count": null,
   "id": "8dc547f1",
   "metadata": {},
   "outputs": [],
   "source": [
    "airport_coord"
   ]
  },
  {
   "cell_type": "code",
   "execution_count": null,
   "id": "cbf498b4",
   "metadata": {},
   "outputs": [],
   "source": [
    "import json\n",
    "\n",
    "with open('airport_coord.txt', 'w') as f:\n",
    "    f.write(json.dumps(airport_coord))"
   ]
  },
  {
   "cell_type": "markdown",
   "id": "6d89526b",
   "metadata": {},
   "source": [
    "# Weather"
   ]
  },
  {
   "cell_type": "markdown",
   "id": "8e1713c2",
   "metadata": {},
   "source": [
    "2003 - 2008"
   ]
  },
  {
   "cell_type": "code",
   "execution_count": null,
   "id": "4e6e28dc",
   "metadata": {},
   "outputs": [],
   "source": [
    "# {\n",
    "#     'airport': [\n",
    "#         'date' : {\n",
    "#             'weather_code'\n",
    "#             'precipitation'\n",
    "#             'snowfall'\n",
    "#             'windspeed'\n",
    "#         }\n",
    "#     ]\n",
    "# }"
   ]
  },
  {
   "cell_type": "code",
   "execution_count": null,
   "id": "6af5ec61",
   "metadata": {},
   "outputs": [],
   "source": [
    "import json\n",
    "\n",
    "with open('airport_coord.txt', 'r') as f:\n",
    "    airport_coord = json.load(f)"
   ]
  },
  {
   "cell_type": "code",
   "execution_count": null,
   "id": "e5737cb8",
   "metadata": {
    "scrolled": true
   },
   "outputs": [],
   "source": [
    "import time\n",
    "\n",
    "airport_weather_dict = {}\n",
    "\n",
    "for airport in airport_coord:\n",
    "#     if airport not in list_airports_remaining:\n",
    "#         continue\n",
    "    airport_weather_dict[airport] = {}\n",
    "    \n",
    "    lat = airport_coord[airport]['latitude']\n",
    "    long = airport_coord[airport]['longitude']\n",
    "    print(f\"Getting data for {airport} at {lat}, {long}...\")\n",
    "    url = f'https://archive-api.open-meteo.com/v1/archive?start_date=2003-01-01&end_date=2009-01-01&latitude={lat}&longitude={long}&daily=weather_code,precipitation_hours,snowfall_sum,wind_speed_10m_max'\n",
    "    \n",
    "    try:\n",
    "        data = requests.get(url).json()\n",
    "        daily = data['daily']\n",
    "    except:\n",
    "        try:\n",
    "            print(\"\\n\\nAPI limit hit...sleeping for 1 min...\\n\\n\")\n",
    "            time.sleep(65)\n",
    "            data = requests.get(url).json()\n",
    "        except:\n",
    "            print(\"\\n\\nAPI limit hit...sleeping for 1 hour...\\n\\n\")\n",
    "            time.sleep(3600)\n",
    "            data = requests.get(url).json()\n",
    "    \n",
    "    for i in range(len(data['daily']['time'])):\n",
    "        date = data['daily']['time'][i]\n",
    "        weather_code = data['daily']['weather_code'][i]\n",
    "        precipitation_hours = data['daily']['precipitation_hours'][i]\n",
    "        snowfall_sum = data['daily']['snowfall_sum'][i]\n",
    "        wind_speed = data['daily']['wind_speed_10m_max'][i]\n",
    "        airport_weather_dict[airport][date] = {\n",
    "            'weather_code' : weather_code,\n",
    "            'precipitation_hours': precipitation_hours,\n",
    "            'snowfall_sum' :snowfall_sum,\n",
    "            'wind_speed' : wind_speed\n",
    "        }"
   ]
  },
  {
   "cell_type": "code",
   "execution_count": null,
   "id": "6f8dc7b7",
   "metadata": {},
   "outputs": [],
   "source": [
    "len(airport_weather_dict)"
   ]
  },
  {
   "cell_type": "code",
   "execution_count": null,
   "id": "d831f15e",
   "metadata": {},
   "outputs": [],
   "source": [
    "list_airports = list(df.Origin.unique())\n",
    "i = list_airports.index('PWM')\n",
    "list_airports_remaining = list_airports[i:]\n",
    "len(list_airports_remaining)"
   ]
  },
  {
   "cell_type": "markdown",
   "id": "a063b7ed",
   "metadata": {},
   "source": [
    "The API Limit was hit..."
   ]
  },
  {
   "cell_type": "code",
   "execution_count": null,
   "id": "50e1123b",
   "metadata": {},
   "outputs": [],
   "source": [
    "for airport in airport_coord:\n",
    "    if airport not in list_airports_remaining:\n",
    "        continue\n",
    "    airport_weather_dict[airport] = {}\n",
    "    \n",
    "    lat = airport_coord[airport]['latitude']\n",
    "    long = airport_coord[airport]['longitude']\n",
    "    print(f\"Getting data for {airport} at {lat}, {long}...\")\n",
    "    url = f'https://archive-api.open-meteo.com/v1/archive?start_date=2003-01-01&end_date=2009-01-01&latitude={lat}&longitude={long}&daily=weather_code,precipitation_hours,snowfall_sum,wind_speed_10m_max'\n",
    "    \n",
    "    try:\n",
    "        data = requests.get(url).json()\n",
    "        daily = data['daily']\n",
    "    except:\n",
    "        try:\n",
    "            print(\"\\n\\nAPI limit hit...sleeping for 1 min...\\n\\n\")\n",
    "            time.sleep(65)\n",
    "            data = requests.get(url).json()\n",
    "        except:\n",
    "            print(\"\\n\\nAPI limit hit...sleeping for 1 hour...\\n\\n\")\n",
    "            time.sleep(3600)\n",
    "            data = requests.get(url).json()\n",
    "    \n",
    "    for i in range(len(data['daily']['time'])):\n",
    "        date = data['daily']['time'][i]\n",
    "        weather_code = data['daily']['weather_code'][i]\n",
    "        precipitation_hours = data['daily']['precipitation_hours'][i]\n",
    "        snowfall_sum = data['daily']['snowfall_sum'][i]\n",
    "        wind_speed = data['daily']['wind_speed_10m_max'][i]\n",
    "        airport_weather_dict[airport][date] = {\n",
    "            'weather_code' : weather_code,\n",
    "            'precipitation_hours': precipitation_hours,\n",
    "            'snowfall_sum' :snowfall_sum,\n",
    "            'wind_speed' : wind_speed\n",
    "        }"
   ]
  },
  {
   "cell_type": "code",
   "execution_count": null,
   "id": "9384c8ec",
   "metadata": {},
   "outputs": [],
   "source": [
    "import json\n",
    "\n",
    "with open('airport_weather_final.json', 'w') as f:\n",
    "    json.dump(airport_weather_dict, f)"
   ]
  },
  {
   "cell_type": "markdown",
   "id": "638b84ac",
   "metadata": {},
   "source": [
    "# Map weather to flights"
   ]
  },
  {
   "cell_type": "code",
   "execution_count": 4,
   "id": "f3429e38",
   "metadata": {
    "scrolled": true
   },
   "outputs": [],
   "source": [
    "df_weather = df.drop(columns=[\n",
    "    'TotalDelayDuration',\n",
    "    'ArrTime',\n",
    "    'DepTime',\n",
    "    'AirTime',\n",
    "    'ArrDelay',\n",
    "    'CRSArrTime',\n",
    "    'ActualElapsedTime',\n",
    "    'CRSElapsedTime',\n",
    "    'Cancelled',\n",
    "    'CarrierDelay',\n",
    "    'DayOfWeek',\n",
    "    'Dest',\n",
    "    'Diverted',\n",
    "    'FlightNum',\n",
    "    'LateAircraftDelay',\n",
    "    'NASDelay',\n",
    "    'SecurityDelay',\n",
    "    'TailNum',\n",
    "    'TaxiIn',\n",
    "    'UniqueCarrier',\n",
    "    'WeatherDelay',\n",
    "    'MonthArr',\n",
    "    'YearArr',\n",
    "    'DepDateTime',\n",
    "    'ArrDateTime',\n",
    "    'CRSArrDateTime',\n",
    "#    'CRSDepDateTime',\n",
    "    'CRSDayOfMonthArr',\n",
    "    'CRSMonthArr',\n",
    "    'CRSYearArr',\n",
    "    'CancellationCode'\n",
    "])\n",
    "\n",
    "target = df_weather['DepDelay']"
   ]
  },
  {
   "cell_type": "code",
   "execution_count": null,
   "id": "cb7b6dfa",
   "metadata": {},
   "outputs": [],
   "source": [
    "df.iloc[1]"
   ]
  },
  {
   "cell_type": "code",
   "execution_count": 5,
   "id": "236ce901",
   "metadata": {},
   "outputs": [],
   "source": [
    "df_weather['weather_code'] = ''\n",
    "df_weather['precipitation_hours'] = ''\n",
    "df_weather['snowfall_sum'] = ''\n",
    "df_weather['wind_speed'] = ''"
   ]
  },
  {
   "cell_type": "code",
   "execution_count": 6,
   "id": "9cb617fb",
   "metadata": {},
   "outputs": [
    {
     "data": {
      "text/plain": [
       "CRSDepTime                             750\n",
       "DayOfMonthDep                            8\n",
       "DepDelay                               0.0\n",
       "Distance                            2288.0\n",
       "MonthDep                                 5\n",
       "Origin                                 LAX\n",
       "TaxiOut                               13.0\n",
       "YearDep                               2007\n",
       "DayOfMonthArr                            8\n",
       "CRSDayOfMonthDep                         8\n",
       "CRSMonthDep                              5\n",
       "CRSYearDep                            2007\n",
       "CRSDepDateTime         2007-05-08 07:50:00\n",
       "weather_code                              \n",
       "precipitation_hours                       \n",
       "snowfall_sum                              \n",
       "wind_speed                                \n",
       "Name: 1, dtype: object"
      ]
     },
     "execution_count": 6,
     "metadata": {},
     "output_type": "execute_result"
    }
   ],
   "source": [
    "df_weather.iloc[1]\n",
    "\n",
    "# Drop types of delays -> focus only on dep delay\n",
    "# Drop all date time columns -> Delay unlikely to be affected\n",
    "# Drop tail num, Taxi in, Flight num, Dest, Diverted"
   ]
  },
  {
   "cell_type": "code",
   "execution_count": 7,
   "id": "01fc6f85",
   "metadata": {},
   "outputs": [
    {
     "data": {
      "text/plain": [
       "'2007-05-08'"
      ]
     },
     "execution_count": 7,
     "metadata": {},
     "output_type": "execute_result"
    }
   ],
   "source": [
    "str(df_weather.iloc[1]['CRSDepDateTime'].date())"
   ]
  },
  {
   "cell_type": "code",
   "execution_count": 8,
   "id": "d6a93256",
   "metadata": {},
   "outputs": [],
   "source": [
    "with open('airport_weather_final.json', 'r') as f:\n",
    "    airport_weather_dict = json.load(f)"
   ]
  },
  {
   "cell_type": "code",
   "execution_count": null,
   "id": "bb26668c",
   "metadata": {},
   "outputs": [],
   "source": [
    "airport_weather_dict['ORD']"
   ]
  },
  {
   "cell_type": "code",
   "execution_count": 11,
   "id": "cc7a8331",
   "metadata": {},
   "outputs": [
    {
     "name": "stdout",
     "output_type": "stream",
     "text": [
      "TOTAL TIME TAKEN: 461.5535967350006\n"
     ]
    }
   ],
   "source": [
    "def add_weather_code(airport_weather_dict, Origin, CRSDepDateTime, weather_code):\n",
    "    if weather_code != '':\n",
    "        return weather_code\n",
    "    else:\n",
    "        list_weathers = airport_weather_dict[Origin]\n",
    "        dep_date = str(CRSDepDateTime.date())\n",
    "        \n",
    "        for weather_dict in list_weathers:\n",
    "            if dep_date in weather_dict:\n",
    "                weather_code = weather_dict[dep_date]['weather_code']\n",
    "\n",
    "        return weather_code\n",
    "\n",
    "start_time = time.time()\n",
    "v_add_weather = np.vectorize(add_weather_code, otypes=[object])\n",
    "\n",
    "df_weather['weather_code'] = v_add_weather(airport_weather_dict, df_weather['Origin'], df_weather['CRSDepDateTime'], df_weather['weather_code'])\n",
    "print(f\"TOTAL TIME TAKEN: {(time.time() - start_time)}\")"
   ]
  },
  {
   "cell_type": "code",
   "execution_count": 12,
   "id": "e5634b5c",
   "metadata": {},
   "outputs": [
    {
     "name": "stdout",
     "output_type": "stream",
     "text": [
      "TOTAL TIME TAKEN: 490.17233967781067\n"
     ]
    }
   ],
   "source": [
    "def add_precipitation_hours(airport_weather_dict, Origin, CRSDepDateTime, precipitation_hours):\n",
    "    if precipitation_hours != '':\n",
    "        return precipitation_hours\n",
    "    else:\n",
    "        list_weathers = airport_weather_dict[Origin]\n",
    "        dep_date = str(CRSDepDateTime.date())\n",
    "        \n",
    "        for weather_dict in list_weathers:\n",
    "            if dep_date in weather_dict:\n",
    "                precipitation_hours = weather_dict[dep_date]['precipitation_hours']\n",
    "    \n",
    "        return precipitation_hours\n",
    "\n",
    "start_time = time.time()\n",
    "v_add_weather = np.vectorize(add_precipitation_hours, otypes=[object])\n",
    "\n",
    "df_weather['precipitation_hours'] = v_add_weather(airport_weather_dict, df_weather['Origin'], df_weather['CRSDepDateTime'], df_weather['precipitation_hours'])\n",
    "print(f\"TOTAL TIME TAKEN: {(time.time() - start_time)}\")"
   ]
  },
  {
   "cell_type": "code",
   "execution_count": 13,
   "id": "d091d2c5",
   "metadata": {},
   "outputs": [
    {
     "name": "stdout",
     "output_type": "stream",
     "text": [
      "TOTAL TIME TAKEN: 481.87537455558777\n"
     ]
    }
   ],
   "source": [
    "def add_snowfall_sum(airport_weather_dict, Origin, CRSDepDateTime, snowfall_sum):\n",
    "    if snowfall_sum != '':\n",
    "        return snowfall_sum\n",
    "    else:\n",
    "        list_weathers = airport_weather_dict[Origin]\n",
    "        dep_date = str(CRSDepDateTime.date())\n",
    "        \n",
    "        for weather_dict in list_weathers:\n",
    "            if dep_date in weather_dict:\n",
    "                snowfall_sum = weather_dict[dep_date]['snowfall_sum']\n",
    "    \n",
    "        return snowfall_sum\n",
    "\n",
    "start_time = time.time()\n",
    "v_add_weather = np.vectorize(add_snowfall_sum, otypes=[object])\n",
    "\n",
    "df_weather['snowfall_sum'] = v_add_weather(airport_weather_dict, df_weather['Origin'], df_weather['CRSDepDateTime'], df_weather['snowfall_sum'])\n",
    "print(f\"TOTAL TIME TAKEN: {(time.time() - start_time)}\")"
   ]
  },
  {
   "cell_type": "code",
   "execution_count": 14,
   "id": "089dbeb5",
   "metadata": {},
   "outputs": [
    {
     "name": "stdout",
     "output_type": "stream",
     "text": [
      "TOTAL TIME TAKEN: 515.2350189685822\n"
     ]
    }
   ],
   "source": [
    "def add_wind_speed(airport_weather_dict, Origin, CRSDepDateTime, wind_speed):\n",
    "    if wind_speed != '':\n",
    "        return wind_speed\n",
    "    else:\n",
    "        list_weathers = airport_weather_dict[Origin]\n",
    "        dep_date = str(CRSDepDateTime.date())\n",
    "        \n",
    "        for weather_dict in list_weathers:\n",
    "            if dep_date in weather_dict:\n",
    "                wind_speed = weather_dict[dep_date]['wind_speed']\n",
    "    \n",
    "        return wind_speed\n",
    "\n",
    "start_time = time.time()\n",
    "v_add_weather = np.vectorize(add_wind_speed, otypes=[object])\n",
    "df_weather['wind_speed'] = v_add_weather(airport_weather_dict, df_weather['Origin'], df_weather['CRSDepDateTime'], df_weather['wind_speed'])\n",
    "print(f\"TOTAL TIME TAKEN: {(time.time() - start_time)}\")"
   ]
  },
  {
   "cell_type": "code",
   "execution_count": 15,
   "id": "85d39534",
   "metadata": {},
   "outputs": [
    {
     "data": {
      "text/plain": [
       "CRSDepTime                             750\n",
       "DayOfMonthDep                            8\n",
       "DepDelay                               0.0\n",
       "Distance                            2288.0\n",
       "MonthDep                                 5\n",
       "Origin                                 LAX\n",
       "TaxiOut                               13.0\n",
       "YearDep                               2007\n",
       "DayOfMonthArr                            8\n",
       "CRSDayOfMonthDep                         8\n",
       "CRSMonthDep                              5\n",
       "CRSYearDep                            2007\n",
       "CRSDepDateTime         2007-05-08 07:50:00\n",
       "weather_code                             0\n",
       "precipitation_hours                    0.0\n",
       "snowfall_sum                           0.0\n",
       "wind_speed                            27.4\n",
       "Name: 1, dtype: object"
      ]
     },
     "execution_count": 15,
     "metadata": {},
     "output_type": "execute_result"
    }
   ],
   "source": [
    "df_weather.iloc[1]"
   ]
  },
  {
   "cell_type": "code",
   "execution_count": 29,
   "id": "5739d017",
   "metadata": {},
   "outputs": [
    {
     "data": {
      "text/html": [
       "<div>\n",
       "<style scoped>\n",
       "    .dataframe tbody tr th:only-of-type {\n",
       "        vertical-align: middle;\n",
       "    }\n",
       "\n",
       "    .dataframe tbody tr th {\n",
       "        vertical-align: top;\n",
       "    }\n",
       "\n",
       "    .dataframe thead th {\n",
       "        text-align: right;\n",
       "    }\n",
       "</style>\n",
       "<table border=\"1\" class=\"dataframe\">\n",
       "  <thead>\n",
       "    <tr style=\"text-align: right;\">\n",
       "      <th></th>\n",
       "      <th>CRSDepTime</th>\n",
       "      <th>DayOfMonthDep</th>\n",
       "      <th>DepDelay</th>\n",
       "      <th>Distance</th>\n",
       "      <th>MonthDep</th>\n",
       "      <th>Origin</th>\n",
       "      <th>TaxiOut</th>\n",
       "      <th>YearDep</th>\n",
       "      <th>DayOfMonthArr</th>\n",
       "      <th>CRSDayOfMonthDep</th>\n",
       "      <th>CRSMonthDep</th>\n",
       "      <th>CRSYearDep</th>\n",
       "      <th>CRSDepDateTime</th>\n",
       "      <th>weather_code</th>\n",
       "      <th>precipitation_hours</th>\n",
       "      <th>snowfall_sum</th>\n",
       "      <th>wind_speed</th>\n",
       "    </tr>\n",
       "  </thead>\n",
       "  <tbody>\n",
       "    <tr>\n",
       "      <th>0</th>\n",
       "      <td>1455</td>\n",
       "      <td>21</td>\n",
       "      <td>81.0</td>\n",
       "      <td>802.0</td>\n",
       "      <td>6</td>\n",
       "      <td>ORD</td>\n",
       "      <td>24.0</td>\n",
       "      <td>2006</td>\n",
       "      <td>21</td>\n",
       "      <td>21</td>\n",
       "      <td>6</td>\n",
       "      <td>2006</td>\n",
       "      <td>2006-06-21 14:55:00</td>\n",
       "      <td>55</td>\n",
       "      <td>5.0</td>\n",
       "      <td>0.0</td>\n",
       "      <td>25.2</td>\n",
       "    </tr>\n",
       "    <tr>\n",
       "      <th>1</th>\n",
       "      <td>750</td>\n",
       "      <td>8</td>\n",
       "      <td>0.0</td>\n",
       "      <td>2288.0</td>\n",
       "      <td>5</td>\n",
       "      <td>LAX</td>\n",
       "      <td>13.0</td>\n",
       "      <td>2007</td>\n",
       "      <td>8</td>\n",
       "      <td>8</td>\n",
       "      <td>5</td>\n",
       "      <td>2007</td>\n",
       "      <td>2007-05-08 07:50:00</td>\n",
       "      <td>0</td>\n",
       "      <td>0.0</td>\n",
       "      <td>0.0</td>\n",
       "      <td>27.4</td>\n",
       "    </tr>\n",
       "    <tr>\n",
       "      <th>2</th>\n",
       "      <td>715</td>\n",
       "      <td>16</td>\n",
       "      <td>-7.0</td>\n",
       "      <td>677.0</td>\n",
       "      <td>3</td>\n",
       "      <td>HOU</td>\n",
       "      <td>6.0</td>\n",
       "      <td>2007</td>\n",
       "      <td>16</td>\n",
       "      <td>16</td>\n",
       "      <td>3</td>\n",
       "      <td>2007</td>\n",
       "      <td>2007-03-16 07:15:00</td>\n",
       "      <td>2</td>\n",
       "      <td>0.0</td>\n",
       "      <td>0.0</td>\n",
       "      <td>23.3</td>\n",
       "    </tr>\n",
       "    <tr>\n",
       "      <th>3</th>\n",
       "      <td>820</td>\n",
       "      <td>22</td>\n",
       "      <td>-1.0</td>\n",
       "      <td>872.0</td>\n",
       "      <td>10</td>\n",
       "      <td>MEM</td>\n",
       "      <td>11.0</td>\n",
       "      <td>2006</td>\n",
       "      <td>22</td>\n",
       "      <td>22</td>\n",
       "      <td>10</td>\n",
       "      <td>2006</td>\n",
       "      <td>2006-10-22 08:20:00</td>\n",
       "      <td>3</td>\n",
       "      <td>0.0</td>\n",
       "      <td>0.0</td>\n",
       "      <td>20.1</td>\n",
       "    </tr>\n",
       "    <tr>\n",
       "      <th>4</th>\n",
       "      <td>1345</td>\n",
       "      <td>15</td>\n",
       "      <td>-4.0</td>\n",
       "      <td>745.0</td>\n",
       "      <td>8</td>\n",
       "      <td>ATL</td>\n",
       "      <td>10.0</td>\n",
       "      <td>2004</td>\n",
       "      <td>15</td>\n",
       "      <td>15</td>\n",
       "      <td>8</td>\n",
       "      <td>2004</td>\n",
       "      <td>2004-08-15 13:45:00</td>\n",
       "      <td>51</td>\n",
       "      <td>2.0</td>\n",
       "      <td>0.0</td>\n",
       "      <td>10.8</td>\n",
       "    </tr>\n",
       "    <tr>\n",
       "      <th>...</th>\n",
       "      <td>...</td>\n",
       "      <td>...</td>\n",
       "      <td>...</td>\n",
       "      <td>...</td>\n",
       "      <td>...</td>\n",
       "      <td>...</td>\n",
       "      <td>...</td>\n",
       "      <td>...</td>\n",
       "      <td>...</td>\n",
       "      <td>...</td>\n",
       "      <td>...</td>\n",
       "      <td>...</td>\n",
       "      <td>...</td>\n",
       "      <td>...</td>\n",
       "      <td>...</td>\n",
       "      <td>...</td>\n",
       "      <td>...</td>\n",
       "    </tr>\n",
       "    <tr>\n",
       "      <th>2681775</th>\n",
       "      <td>1310</td>\n",
       "      <td>12</td>\n",
       "      <td>7.0</td>\n",
       "      <td>717.0</td>\n",
       "      <td>12</td>\n",
       "      <td>ORD</td>\n",
       "      <td>13.0</td>\n",
       "      <td>2006</td>\n",
       "      <td>12</td>\n",
       "      <td>12</td>\n",
       "      <td>12</td>\n",
       "      <td>2006</td>\n",
       "      <td>2006-12-12 13:10:00</td>\n",
       "      <td>53</td>\n",
       "      <td>7.0</td>\n",
       "      <td>0.0</td>\n",
       "      <td>19.9</td>\n",
       "    </tr>\n",
       "    <tr>\n",
       "      <th>2681776</th>\n",
       "      <td>955</td>\n",
       "      <td>24</td>\n",
       "      <td>8.0</td>\n",
       "      <td>1587.0</td>\n",
       "      <td>10</td>\n",
       "      <td>PHX</td>\n",
       "      <td>13.0</td>\n",
       "      <td>2007</td>\n",
       "      <td>24</td>\n",
       "      <td>24</td>\n",
       "      <td>10</td>\n",
       "      <td>2007</td>\n",
       "      <td>2007-10-24 09:55:00</td>\n",
       "      <td>0</td>\n",
       "      <td>0.0</td>\n",
       "      <td>0.0</td>\n",
       "      <td>24.0</td>\n",
       "    </tr>\n",
       "    <tr>\n",
       "      <th>2681777</th>\n",
       "      <td>1405</td>\n",
       "      <td>2</td>\n",
       "      <td>-4.0</td>\n",
       "      <td>1235.0</td>\n",
       "      <td>4</td>\n",
       "      <td>BWI</td>\n",
       "      <td>10.0</td>\n",
       "      <td>2004</td>\n",
       "      <td>2</td>\n",
       "      <td>2</td>\n",
       "      <td>4</td>\n",
       "      <td>2004</td>\n",
       "      <td>2004-04-02 14:05:00</td>\n",
       "      <td>53</td>\n",
       "      <td>23.0</td>\n",
       "      <td>0.0</td>\n",
       "      <td>12.5</td>\n",
       "    </tr>\n",
       "    <tr>\n",
       "      <th>2681778</th>\n",
       "      <td>745</td>\n",
       "      <td>30</td>\n",
       "      <td>-7.0</td>\n",
       "      <td>804.0</td>\n",
       "      <td>8</td>\n",
       "      <td>RNO</td>\n",
       "      <td>10.0</td>\n",
       "      <td>2006</td>\n",
       "      <td>30</td>\n",
       "      <td>30</td>\n",
       "      <td>8</td>\n",
       "      <td>2006</td>\n",
       "      <td>2006-08-30 07:45:00</td>\n",
       "      <td>0</td>\n",
       "      <td>0.0</td>\n",
       "      <td>0.0</td>\n",
       "      <td>17.5</td>\n",
       "    </tr>\n",
       "    <tr>\n",
       "      <th>2681779</th>\n",
       "      <td>2015</td>\n",
       "      <td>13</td>\n",
       "      <td>11.0</td>\n",
       "      <td>1024.0</td>\n",
       "      <td>12</td>\n",
       "      <td>SEA</td>\n",
       "      <td>27.0</td>\n",
       "      <td>2005</td>\n",
       "      <td>13</td>\n",
       "      <td>13</td>\n",
       "      <td>12</td>\n",
       "      <td>2005</td>\n",
       "      <td>2005-12-13 20:15:00</td>\n",
       "      <td>3</td>\n",
       "      <td>0.0</td>\n",
       "      <td>0.0</td>\n",
       "      <td>6.8</td>\n",
       "    </tr>\n",
       "  </tbody>\n",
       "</table>\n",
       "<p>2681780 rows × 17 columns</p>\n",
       "</div>"
      ],
      "text/plain": [
       "         CRSDepTime  DayOfMonthDep  DepDelay  Distance  MonthDep Origin  \\\n",
       "0              1455             21      81.0     802.0         6    ORD   \n",
       "1               750              8       0.0    2288.0         5    LAX   \n",
       "2               715             16      -7.0     677.0         3    HOU   \n",
       "3               820             22      -1.0     872.0        10    MEM   \n",
       "4              1345             15      -4.0     745.0         8    ATL   \n",
       "...             ...            ...       ...       ...       ...    ...   \n",
       "2681775        1310             12       7.0     717.0        12    ORD   \n",
       "2681776         955             24       8.0    1587.0        10    PHX   \n",
       "2681777        1405              2      -4.0    1235.0         4    BWI   \n",
       "2681778         745             30      -7.0     804.0         8    RNO   \n",
       "2681779        2015             13      11.0    1024.0        12    SEA   \n",
       "\n",
       "         TaxiOut  YearDep  DayOfMonthArr  CRSDayOfMonthDep  CRSMonthDep  \\\n",
       "0           24.0     2006             21                21            6   \n",
       "1           13.0     2007              8                 8            5   \n",
       "2            6.0     2007             16                16            3   \n",
       "3           11.0     2006             22                22           10   \n",
       "4           10.0     2004             15                15            8   \n",
       "...          ...      ...            ...               ...          ...   \n",
       "2681775     13.0     2006             12                12           12   \n",
       "2681776     13.0     2007             24                24           10   \n",
       "2681777     10.0     2004              2                 2            4   \n",
       "2681778     10.0     2006             30                30            8   \n",
       "2681779     27.0     2005             13                13           12   \n",
       "\n",
       "         CRSYearDep      CRSDepDateTime weather_code precipitation_hours  \\\n",
       "0              2006 2006-06-21 14:55:00           55                 5.0   \n",
       "1              2007 2007-05-08 07:50:00            0                 0.0   \n",
       "2              2007 2007-03-16 07:15:00            2                 0.0   \n",
       "3              2006 2006-10-22 08:20:00            3                 0.0   \n",
       "4              2004 2004-08-15 13:45:00           51                 2.0   \n",
       "...             ...                 ...          ...                 ...   \n",
       "2681775        2006 2006-12-12 13:10:00           53                 7.0   \n",
       "2681776        2007 2007-10-24 09:55:00            0                 0.0   \n",
       "2681777        2004 2004-04-02 14:05:00           53                23.0   \n",
       "2681778        2006 2006-08-30 07:45:00            0                 0.0   \n",
       "2681779        2005 2005-12-13 20:15:00            3                 0.0   \n",
       "\n",
       "        snowfall_sum wind_speed  \n",
       "0                0.0       25.2  \n",
       "1                0.0       27.4  \n",
       "2                0.0       23.3  \n",
       "3                0.0       20.1  \n",
       "4                0.0       10.8  \n",
       "...              ...        ...  \n",
       "2681775          0.0       19.9  \n",
       "2681776          0.0       24.0  \n",
       "2681777          0.0       12.5  \n",
       "2681778          0.0       17.5  \n",
       "2681779          0.0        6.8  \n",
       "\n",
       "[2681780 rows x 17 columns]"
      ]
     },
     "execution_count": 29,
     "metadata": {},
     "output_type": "execute_result"
    }
   ],
   "source": [
    "df_weather"
   ]
  },
  {
   "cell_type": "code",
   "execution_count": 19,
   "id": "3df7f527",
   "metadata": {},
   "outputs": [],
   "source": [
    "# df_weather.to_csv(\"delayed flights with region and weather.csv\")"
   ]
  },
  {
   "cell_type": "code",
   "execution_count": null,
   "id": "67af3bd4",
   "metadata": {},
   "outputs": [],
   "source": []
  }
 ],
 "metadata": {
  "kernelspec": {
   "display_name": "Python 3 (ipykernel)",
   "language": "python",
   "name": "python3"
  },
  "language_info": {
   "codemirror_mode": {
    "name": "ipython",
    "version": 3
   },
   "file_extension": ".py",
   "mimetype": "text/x-python",
   "name": "python",
   "nbconvert_exporter": "python",
   "pygments_lexer": "ipython3",
   "version": "3.11.5"
  }
 },
 "nbformat": 4,
 "nbformat_minor": 5
}
