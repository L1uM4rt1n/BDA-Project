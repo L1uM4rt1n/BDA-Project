{
 "cells": [
  {
   "cell_type": "markdown",
   "metadata": {},
   "source": [
    "# EDA Script to find patterns in weather delays\n",
    "\n",
    "### Business Question: How can we enhance operational efficiency by identifying weather patterns to minimise flight delays as a results of changing weather patterns?"
   ]
  },
  {
   "cell_type": "code",
   "execution_count": 15,
   "metadata": {},
   "outputs": [],
   "source": [
    "from pyspark.sql.functions import udf, col, lit, to_date, concat_ws, split\n",
    "from pyspark.sql.types import StructType, StructField, StringType, DoubleType, MapType\n",
    "from pyspark.sql import SparkSession\n",
    "import os\n",
    "import sys\n",
    "import json\n",
    "import requests"
   ]
  },
  {
   "cell_type": "code",
   "execution_count": null,
   "metadata": {},
   "outputs": [],
   "source": [
    "os.environ['PYSPAK_PYTHON'] = sys.executable\n",
    "os.environ['PYSPARK_DRIVER_PYTHON'] = sys.executable\n",
    "\n",
    "spark = SparkSession.builder \\\n",
    "                    .appName(\"weather-script\") \\\n",
    "                    .getOrCreate()\n",
    "\n",
    "raw_data_dir = r\"s3://operational-raw-data-bucket/raw_data/operational_database/operational_csv/\"\n",
    "csv_file = 'airline.csv'"
   ]
  },
  {
   "cell_type": "code",
   "execution_count": null,
   "metadata": {},
   "outputs": [],
   "source": [
    "airline_df = spark.read.csv(raw_data_dir + csv_file, header=True, inferSchema=True)\n",
    "print (df.show())"
   ]
  },
  {
   "cell_type": "code",
   "execution_count": null,
   "metadata": {},
   "outputs": [],
   "source": [
    "header = {\"X-Api-Key\":\"lf/2O0WcstK5VeRxvvASdA==tinCbr385akwLFVh\"}\n",
    "\n",
    "airport_coord = {}\n",
    "list_failed = []\n",
    "\n",
    "for iata in list(airline_df.Origin.unique()):\n",
    "    url = f'https://api.api-ninjas.com/v1/airports?iata={iata}'\n",
    "\n",
    "    data = requests.get(url, headers=header).json()\n",
    "    try:\n",
    "        lat = data[0]['latitude']\n",
    "        long = data[0]['longitude']\n",
    "        region = data[0]['region']\n",
    "        airport_coord[iata] = {\n",
    "            'latitude' : lat,\n",
    "            'longitude' : long,\n",
    "            'region' : region\n",
    "        }\n",
    "    except:\n",
    "        print(f\"iata : {iata}\")\n",
    "        list_failed.append(iata)"
   ]
  },
  {
   "cell_type": "code",
   "execution_count": null,
   "metadata": {},
   "outputs": [],
   "source": [
    "with open('airport_coord.json', 'w') as f:\n",
    "    json.dumps(airport_coord))"
   ]
  },
  {
   "cell_type": "code",
   "execution_count": null,
   "metadata": {},
   "outputs": [],
   "source": [
    "import time\n",
    "\n",
    "airport_weather_dict = {}\n",
    "\n",
    "for airport in airport_coord:\n",
    "    airport_weather_dict[airport] = {}\n",
    "    \n",
    "    lat = airport_coord[airport]['latitude']\n",
    "    long = airport_coord[airport]['longitude']\n",
    "    print(f\"Getting data for {airport} at {lat}, {long}...\")\n",
    "    url = f'https://archive-api.open-meteo.com/v1/archive?start_date=2003-01-01&end_date=2009-01-01&latitude={lat}&longitude={long}&daily=weather_code,precipitation_hours,snowfall_sum,wind_speed_10m_max'\n",
    "    \n",
    "    try:\n",
    "        data = requests.get(url).json()\n",
    "        daily = data['daily']\n",
    "    except:\n",
    "        try:\n",
    "            print(\"\\n\\nAPI limit hit...sleeping for 1 min...\\n\\n\")\n",
    "            time.sleep(65)\n",
    "            data = requests.get(url).json()\n",
    "        except:\n",
    "            print(\"\\n\\nAPI limit hit...sleeping for 1 hour...\\n\\n\")\n",
    "            time.sleep(3600)\n",
    "            data = requests.get(url).json()\n",
    "    \n",
    "    for i in range(len(data['daily']['time'])):\n",
    "        date = data['daily']['time'][i]\n",
    "        weather_code = data['daily']['weather_code'][i]\n",
    "        precipitation_hours = data['daily']['precipitation_hours'][i]\n",
    "        snowfall_sum = data['daily']['snowfall_sum'][i]\n",
    "        wind_speed = data['daily']['wind_speed_10m_max'][i]\n",
    "        airport_weather_dict[airport][date] = {\n",
    "            'weather_code' : weather_code,\n",
    "            'precipitation_hours': precipitation_hours,\n",
    "            'snowfall_sum' :snowfall_sum,\n",
    "            'wind_speed' : wind_speed\n",
    "        }"
   ]
  },
  {
   "cell_type": "code",
   "execution_count": null,
   "metadata": {},
   "outputs": [],
   "source": [
    "import json\n",
    "\n",
    "with open('airport_weather_final.json', 'w') as f:\n",
    "    json.dump(airport_weather_dict, f)"
   ]
  }
 ],
 "metadata": {
  "kernelspec": {
   "display_name": "Python 3 (ipykernel)",
   "language": "python",
   "name": "python3"
  },
  "language_info": {
   "codemirror_mode": {
    "name": "ipython",
    "version": 3
   },
   "file_extension": ".py",
   "mimetype": "text/x-python",
   "name": "python",
   "nbconvert_exporter": "python",
   "pygments_lexer": "ipython3",
   "version": "3.10.10"
  }
 },
 "nbformat": 4,
 "nbformat_minor": 4
}
