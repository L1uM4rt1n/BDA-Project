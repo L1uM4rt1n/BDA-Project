{
 "cells": [
  {
   "cell_type": "code",
   "execution_count": 1,
   "metadata": {},
   "outputs": [
    {
     "name": "stdout",
     "output_type": "stream",
     "text": [
      "Requirement already satisfied: pandas in /Library/Frameworks/Python.framework/Versions/3.11/lib/python3.11/site-packages (2.0.3)\n",
      "Requirement already satisfied: python-dateutil>=2.8.2 in /Users/I583656/Library/Python/3.11/lib/python/site-packages (from pandas) (2.8.2)\n",
      "Requirement already satisfied: pytz>=2020.1 in /Library/Frameworks/Python.framework/Versions/3.11/lib/python3.11/site-packages (from pandas) (2023.3)\n",
      "Requirement already satisfied: tzdata>=2022.1 in /Library/Frameworks/Python.framework/Versions/3.11/lib/python3.11/site-packages (from pandas) (2023.3)\n",
      "Requirement already satisfied: numpy>=1.21.0 in /Library/Frameworks/Python.framework/Versions/3.11/lib/python3.11/site-packages (from pandas) (1.25.2)\n",
      "Requirement already satisfied: six>=1.5 in /Users/I583656/Library/Python/3.11/lib/python/site-packages (from python-dateutil>=2.8.2->pandas) (1.16.0)\n",
      "Note: you may need to restart the kernel to use updated packages.\n"
     ]
    }
   ],
   "source": [
    "pip install pandas"
   ]
  },
  {
   "cell_type": "code",
   "execution_count": 2,
   "metadata": {},
   "outputs": [
    {
     "name": "stdout",
     "output_type": "stream",
     "text": [
      "Requirement already satisfied: pip in /Library/Frameworks/Python.framework/Versions/3.11/lib/python3.11/site-packages (24.0)\n",
      "Note: you may need to restart the kernel to use updated packages.\n"
     ]
    }
   ],
   "source": [
    "pip install --upgrade pip"
   ]
  },
  {
   "cell_type": "code",
   "execution_count": 3,
   "metadata": {},
   "outputs": [
    {
     "name": "stdout",
     "output_type": "stream",
     "text": [
      "Requirement already satisfied: seaborn in /Library/Frameworks/Python.framework/Versions/3.11/lib/python3.11/site-packages (0.13.1)\n",
      "Requirement already satisfied: numpy!=1.24.0,>=1.20 in /Library/Frameworks/Python.framework/Versions/3.11/lib/python3.11/site-packages (from seaborn) (1.25.2)\n",
      "Requirement already satisfied: pandas>=1.2 in /Library/Frameworks/Python.framework/Versions/3.11/lib/python3.11/site-packages (from seaborn) (2.0.3)\n",
      "Requirement already satisfied: matplotlib!=3.6.1,>=3.4 in /Users/I583656/Library/Python/3.11/lib/python/site-packages (from seaborn) (3.8.2)\n",
      "Requirement already satisfied: contourpy>=1.0.1 in /Users/I583656/Library/Python/3.11/lib/python/site-packages (from matplotlib!=3.6.1,>=3.4->seaborn) (1.2.0)\n",
      "Requirement already satisfied: cycler>=0.10 in /Users/I583656/Library/Python/3.11/lib/python/site-packages (from matplotlib!=3.6.1,>=3.4->seaborn) (0.12.1)\n",
      "Requirement already satisfied: fonttools>=4.22.0 in /Users/I583656/Library/Python/3.11/lib/python/site-packages (from matplotlib!=3.6.1,>=3.4->seaborn) (4.47.2)\n",
      "Requirement already satisfied: kiwisolver>=1.3.1 in /Users/I583656/Library/Python/3.11/lib/python/site-packages (from matplotlib!=3.6.1,>=3.4->seaborn) (1.4.5)\n",
      "Requirement already satisfied: packaging>=20.0 in /Users/I583656/Library/Python/3.11/lib/python/site-packages (from matplotlib!=3.6.1,>=3.4->seaborn) (23.1)\n",
      "Requirement already satisfied: pillow>=8 in /Users/I583656/Library/Python/3.11/lib/python/site-packages (from matplotlib!=3.6.1,>=3.4->seaborn) (10.2.0)\n",
      "Requirement already satisfied: pyparsing>=2.3.1 in /Users/I583656/Library/Python/3.11/lib/python/site-packages (from matplotlib!=3.6.1,>=3.4->seaborn) (3.1.1)\n",
      "Requirement already satisfied: python-dateutil>=2.7 in /Users/I583656/Library/Python/3.11/lib/python/site-packages (from matplotlib!=3.6.1,>=3.4->seaborn) (2.8.2)\n",
      "Requirement already satisfied: pytz>=2020.1 in /Library/Frameworks/Python.framework/Versions/3.11/lib/python3.11/site-packages (from pandas>=1.2->seaborn) (2023.3)\n",
      "Requirement already satisfied: tzdata>=2022.1 in /Library/Frameworks/Python.framework/Versions/3.11/lib/python3.11/site-packages (from pandas>=1.2->seaborn) (2023.3)\n",
      "Requirement already satisfied: six>=1.5 in /Users/I583656/Library/Python/3.11/lib/python/site-packages (from python-dateutil>=2.7->matplotlib!=3.6.1,>=3.4->seaborn) (1.16.0)\n",
      "Note: you may need to restart the kernel to use updated packages.\n"
     ]
    }
   ],
   "source": [
    "pip install seaborn"
   ]
  },
  {
   "cell_type": "code",
   "execution_count": 4,
   "metadata": {},
   "outputs": [
    {
     "name": "stdout",
     "output_type": "stream",
     "text": [
      "Requirement already satisfied: matplotlib in /Users/I583656/Library/Python/3.11/lib/python/site-packages (3.8.2)\n",
      "Requirement already satisfied: contourpy>=1.0.1 in /Users/I583656/Library/Python/3.11/lib/python/site-packages (from matplotlib) (1.2.0)\n",
      "Requirement already satisfied: cycler>=0.10 in /Users/I583656/Library/Python/3.11/lib/python/site-packages (from matplotlib) (0.12.1)\n",
      "Requirement already satisfied: fonttools>=4.22.0 in /Users/I583656/Library/Python/3.11/lib/python/site-packages (from matplotlib) (4.47.2)\n",
      "Requirement already satisfied: kiwisolver>=1.3.1 in /Users/I583656/Library/Python/3.11/lib/python/site-packages (from matplotlib) (1.4.5)\n",
      "Requirement already satisfied: numpy<2,>=1.21 in /Library/Frameworks/Python.framework/Versions/3.11/lib/python3.11/site-packages (from matplotlib) (1.25.2)\n",
      "Requirement already satisfied: packaging>=20.0 in /Users/I583656/Library/Python/3.11/lib/python/site-packages (from matplotlib) (23.1)\n",
      "Requirement already satisfied: pillow>=8 in /Users/I583656/Library/Python/3.11/lib/python/site-packages (from matplotlib) (10.2.0)\n",
      "Requirement already satisfied: pyparsing>=2.3.1 in /Users/I583656/Library/Python/3.11/lib/python/site-packages (from matplotlib) (3.1.1)\n",
      "Requirement already satisfied: python-dateutil>=2.7 in /Users/I583656/Library/Python/3.11/lib/python/site-packages (from matplotlib) (2.8.2)\n",
      "Requirement already satisfied: six>=1.5 in /Users/I583656/Library/Python/3.11/lib/python/site-packages (from python-dateutil>=2.7->matplotlib) (1.16.0)\n",
      "Note: you may need to restart the kernel to use updated packages.\n"
     ]
    }
   ],
   "source": [
    "pip install matplotlib"
   ]
  },
  {
   "cell_type": "markdown",
   "metadata": {},
   "source": [
    "# EDA Script to find patterns in delays, cancellations, or any contributing factors to delays\n",
    "\n",
    "### Business Question: How can we enhance operational efficiency by identifying patterns in delays, cancellations, or specific contributing factors?"
   ]
  },
  {
   "cell_type": "code",
   "execution_count": 1,
   "metadata": {},
   "outputs": [],
   "source": [
    "import pandas as pd\n",
    "import seaborn as sns\n",
    "import matplotlib.pyplot as plt"
   ]
  },
  {
   "cell_type": "code",
   "execution_count": 2,
   "metadata": {},
   "outputs": [
    {
     "data": {
      "text/html": [
       "<div>\n",
       "<style scoped>\n",
       "    .dataframe tbody tr th:only-of-type {\n",
       "        vertical-align: middle;\n",
       "    }\n",
       "\n",
       "    .dataframe tbody tr th {\n",
       "        vertical-align: top;\n",
       "    }\n",
       "\n",
       "    .dataframe thead th {\n",
       "        text-align: right;\n",
       "    }\n",
       "</style>\n",
       "<table border=\"1\" class=\"dataframe\">\n",
       "  <thead>\n",
       "    <tr style=\"text-align: right;\">\n",
       "      <th></th>\n",
       "      <th>ActualElapsedTime</th>\n",
       "      <th>AirTime</th>\n",
       "      <th>ArrDelay</th>\n",
       "      <th>ArrTime</th>\n",
       "      <th>CRSArrTime</th>\n",
       "      <th>CRSDepTime</th>\n",
       "      <th>CRSElapsedTime</th>\n",
       "      <th>CancellationCode</th>\n",
       "      <th>Cancelled</th>\n",
       "      <th>CarrierDelay</th>\n",
       "      <th>...</th>\n",
       "      <th>Month</th>\n",
       "      <th>NASDelay</th>\n",
       "      <th>Origin</th>\n",
       "      <th>SecurityDelay</th>\n",
       "      <th>TailNum</th>\n",
       "      <th>TaxiIn</th>\n",
       "      <th>TaxiOut</th>\n",
       "      <th>UniqueCarrier</th>\n",
       "      <th>WeatherDelay</th>\n",
       "      <th>Year</th>\n",
       "    </tr>\n",
       "  </thead>\n",
       "  <tbody>\n",
       "    <tr>\n",
       "      <th>0</th>\n",
       "      <td>154.0</td>\n",
       "      <td>122.0</td>\n",
       "      <td>90.0</td>\n",
       "      <td>1850.0</td>\n",
       "      <td>1720</td>\n",
       "      <td>1455</td>\n",
       "      <td>145.0</td>\n",
       "      <td>NaN</td>\n",
       "      <td>0</td>\n",
       "      <td>0.0</td>\n",
       "      <td>...</td>\n",
       "      <td>6</td>\n",
       "      <td>23.0</td>\n",
       "      <td>ORD</td>\n",
       "      <td>0.0</td>\n",
       "      <td>N293AA</td>\n",
       "      <td>8.0</td>\n",
       "      <td>24.0</td>\n",
       "      <td>AA</td>\n",
       "      <td>0.0</td>\n",
       "      <td>2006</td>\n",
       "    </tr>\n",
       "    <tr>\n",
       "      <th>1</th>\n",
       "      <td>159.0</td>\n",
       "      <td>125.0</td>\n",
       "      <td>59.0</td>\n",
       "      <td>1703.0</td>\n",
       "      <td>1604</td>\n",
       "      <td>1510</td>\n",
       "      <td>114.0</td>\n",
       "      <td>NaN</td>\n",
       "      <td>0</td>\n",
       "      <td>NaN</td>\n",
       "      <td>...</td>\n",
       "      <td>9</td>\n",
       "      <td>NaN</td>\n",
       "      <td>DTW</td>\n",
       "      <td>NaN</td>\n",
       "      <td>N8921E</td>\n",
       "      <td>19.0</td>\n",
       "      <td>15.0</td>\n",
       "      <td>NW</td>\n",
       "      <td>NaN</td>\n",
       "      <td>1997</td>\n",
       "    </tr>\n",
       "    <tr>\n",
       "      <th>2</th>\n",
       "      <td>NaN</td>\n",
       "      <td>71.0</td>\n",
       "      <td>NaN</td>\n",
       "      <td>NaN</td>\n",
       "      <td>1140</td>\n",
       "      <td>1037</td>\n",
       "      <td>63.0</td>\n",
       "      <td>NaN</td>\n",
       "      <td>1</td>\n",
       "      <td>NaN</td>\n",
       "      <td>...</td>\n",
       "      <td>2</td>\n",
       "      <td>NaN</td>\n",
       "      <td>CVG</td>\n",
       "      <td>NaN</td>\n",
       "      <td>N331DL</td>\n",
       "      <td>4.0</td>\n",
       "      <td>15.0</td>\n",
       "      <td>DL</td>\n",
       "      <td>NaN</td>\n",
       "      <td>1995</td>\n",
       "    </tr>\n",
       "    <tr>\n",
       "      <th>3</th>\n",
       "      <td>70.0</td>\n",
       "      <td>NaN</td>\n",
       "      <td>80.0</td>\n",
       "      <td>20.0</td>\n",
       "      <td>2300</td>\n",
       "      <td>2100</td>\n",
       "      <td>60.0</td>\n",
       "      <td>NaN</td>\n",
       "      <td>0</td>\n",
       "      <td>NaN</td>\n",
       "      <td>...</td>\n",
       "      <td>2</td>\n",
       "      <td>NaN</td>\n",
       "      <td>MDW</td>\n",
       "      <td>NaN</td>\n",
       "      <td>NaN</td>\n",
       "      <td>NaN</td>\n",
       "      <td>NaN</td>\n",
       "      <td>ML (1)</td>\n",
       "      <td>NaN</td>\n",
       "      <td>1991</td>\n",
       "    </tr>\n",
       "    <tr>\n",
       "      <th>4</th>\n",
       "      <td>150.0</td>\n",
       "      <td>135.0</td>\n",
       "      <td>5.0</td>\n",
       "      <td>2030.0</td>\n",
       "      <td>2025</td>\n",
       "      <td>1740</td>\n",
       "      <td>165.0</td>\n",
       "      <td>NaN</td>\n",
       "      <td>0</td>\n",
       "      <td>NaN</td>\n",
       "      <td>...</td>\n",
       "      <td>2</td>\n",
       "      <td>NaN</td>\n",
       "      <td>PHL</td>\n",
       "      <td>NaN</td>\n",
       "      <td>N512AU</td>\n",
       "      <td>3.0</td>\n",
       "      <td>12.0</td>\n",
       "      <td>US</td>\n",
       "      <td>NaN</td>\n",
       "      <td>1997</td>\n",
       "    </tr>\n",
       "  </tbody>\n",
       "</table>\n",
       "<p>5 rows × 29 columns</p>\n",
       "</div>"
      ],
      "text/plain": [
       "   ActualElapsedTime  AirTime  ArrDelay  ArrTime  CRSArrTime  CRSDepTime  \\\n",
       "0              154.0    122.0      90.0   1850.0        1720        1455   \n",
       "1              159.0    125.0      59.0   1703.0        1604        1510   \n",
       "2                NaN     71.0       NaN      NaN        1140        1037   \n",
       "3               70.0      NaN      80.0     20.0        2300        2100   \n",
       "4              150.0    135.0       5.0   2030.0        2025        1740   \n",
       "\n",
       "   CRSElapsedTime CancellationCode  Cancelled  CarrierDelay  ...  Month  \\\n",
       "0           145.0              NaN          0           0.0  ...      6   \n",
       "1           114.0              NaN          0           NaN  ...      9   \n",
       "2            63.0              NaN          1           NaN  ...      2   \n",
       "3            60.0              NaN          0           NaN  ...      2   \n",
       "4           165.0              NaN          0           NaN  ...      2   \n",
       "\n",
       "   NASDelay  Origin  SecurityDelay TailNum  TaxiIn  TaxiOut  UniqueCarrier  \\\n",
       "0      23.0     ORD            0.0  N293AA     8.0     24.0             AA   \n",
       "1       NaN     DTW            NaN  N8921E    19.0     15.0             NW   \n",
       "2       NaN     CVG            NaN  N331DL     4.0     15.0             DL   \n",
       "3       NaN     MDW            NaN     NaN     NaN      NaN         ML (1)   \n",
       "4       NaN     PHL            NaN  N512AU     3.0     12.0             US   \n",
       "\n",
       "   WeatherDelay  Year  \n",
       "0           0.0  2006  \n",
       "1           NaN  1997  \n",
       "2           NaN  1995  \n",
       "3           NaN  1991  \n",
       "4           NaN  1997  \n",
       "\n",
       "[5 rows x 29 columns]"
      ]
     },
     "execution_count": 2,
     "metadata": {},
     "output_type": "execute_result"
    }
   ],
   "source": [
    "airline_df = pd.read_csv(\"../dataset/airline.csv\")\n",
    "airline_df.head()"
   ]
  },
  {
   "cell_type": "code",
   "execution_count": 3,
   "metadata": {},
   "outputs": [
    {
     "data": {
      "text/html": [
       "<div>\n",
       "<style scoped>\n",
       "    .dataframe tbody tr th:only-of-type {\n",
       "        vertical-align: middle;\n",
       "    }\n",
       "\n",
       "    .dataframe tbody tr th {\n",
       "        vertical-align: top;\n",
       "    }\n",
       "\n",
       "    .dataframe thead th {\n",
       "        text-align: right;\n",
       "    }\n",
       "</style>\n",
       "<table border=\"1\" class=\"dataframe\">\n",
       "  <thead>\n",
       "    <tr style=\"text-align: right;\">\n",
       "      <th></th>\n",
       "      <th>ActualElapsedTime</th>\n",
       "      <th>AirTime</th>\n",
       "      <th>ArrDelay</th>\n",
       "      <th>ArrTime</th>\n",
       "      <th>CRSArrTime</th>\n",
       "      <th>CRSDepTime</th>\n",
       "      <th>CRSElapsedTime</th>\n",
       "      <th>CancellationCode</th>\n",
       "      <th>Cancelled</th>\n",
       "      <th>CarrierDelay</th>\n",
       "      <th>...</th>\n",
       "      <th>Month</th>\n",
       "      <th>NASDelay</th>\n",
       "      <th>Origin</th>\n",
       "      <th>SecurityDelay</th>\n",
       "      <th>TailNum</th>\n",
       "      <th>TaxiIn</th>\n",
       "      <th>TaxiOut</th>\n",
       "      <th>UniqueCarrier</th>\n",
       "      <th>WeatherDelay</th>\n",
       "      <th>Year</th>\n",
       "    </tr>\n",
       "  </thead>\n",
       "  <tbody>\n",
       "    <tr>\n",
       "      <th>0</th>\n",
       "      <td>154.0</td>\n",
       "      <td>122.0</td>\n",
       "      <td>90.0</td>\n",
       "      <td>1850.0</td>\n",
       "      <td>1720</td>\n",
       "      <td>1455</td>\n",
       "      <td>145.0</td>\n",
       "      <td>NaN</td>\n",
       "      <td>0</td>\n",
       "      <td>0.0</td>\n",
       "      <td>...</td>\n",
       "      <td>6</td>\n",
       "      <td>23.0</td>\n",
       "      <td>ORD</td>\n",
       "      <td>0.0</td>\n",
       "      <td>N293AA</td>\n",
       "      <td>8.0</td>\n",
       "      <td>24.0</td>\n",
       "      <td>AA</td>\n",
       "      <td>0.0</td>\n",
       "      <td>2006</td>\n",
       "    </tr>\n",
       "    <tr>\n",
       "      <th>1</th>\n",
       "      <td>159.0</td>\n",
       "      <td>125.0</td>\n",
       "      <td>59.0</td>\n",
       "      <td>1703.0</td>\n",
       "      <td>1604</td>\n",
       "      <td>1510</td>\n",
       "      <td>114.0</td>\n",
       "      <td>NaN</td>\n",
       "      <td>0</td>\n",
       "      <td>NaN</td>\n",
       "      <td>...</td>\n",
       "      <td>9</td>\n",
       "      <td>NaN</td>\n",
       "      <td>DTW</td>\n",
       "      <td>NaN</td>\n",
       "      <td>N8921E</td>\n",
       "      <td>19.0</td>\n",
       "      <td>15.0</td>\n",
       "      <td>NW</td>\n",
       "      <td>NaN</td>\n",
       "      <td>1997</td>\n",
       "    </tr>\n",
       "    <tr>\n",
       "      <th>2</th>\n",
       "      <td>NaN</td>\n",
       "      <td>71.0</td>\n",
       "      <td>NaN</td>\n",
       "      <td>NaN</td>\n",
       "      <td>1140</td>\n",
       "      <td>1037</td>\n",
       "      <td>63.0</td>\n",
       "      <td>NaN</td>\n",
       "      <td>1</td>\n",
       "      <td>NaN</td>\n",
       "      <td>...</td>\n",
       "      <td>2</td>\n",
       "      <td>NaN</td>\n",
       "      <td>CVG</td>\n",
       "      <td>NaN</td>\n",
       "      <td>N331DL</td>\n",
       "      <td>4.0</td>\n",
       "      <td>15.0</td>\n",
       "      <td>DL</td>\n",
       "      <td>NaN</td>\n",
       "      <td>1995</td>\n",
       "    </tr>\n",
       "    <tr>\n",
       "      <th>3</th>\n",
       "      <td>70.0</td>\n",
       "      <td>NaN</td>\n",
       "      <td>80.0</td>\n",
       "      <td>20.0</td>\n",
       "      <td>2300</td>\n",
       "      <td>2100</td>\n",
       "      <td>60.0</td>\n",
       "      <td>NaN</td>\n",
       "      <td>0</td>\n",
       "      <td>NaN</td>\n",
       "      <td>...</td>\n",
       "      <td>2</td>\n",
       "      <td>NaN</td>\n",
       "      <td>MDW</td>\n",
       "      <td>NaN</td>\n",
       "      <td>NaN</td>\n",
       "      <td>NaN</td>\n",
       "      <td>NaN</td>\n",
       "      <td>ML (1)</td>\n",
       "      <td>NaN</td>\n",
       "      <td>1991</td>\n",
       "    </tr>\n",
       "    <tr>\n",
       "      <th>4</th>\n",
       "      <td>150.0</td>\n",
       "      <td>135.0</td>\n",
       "      <td>5.0</td>\n",
       "      <td>2030.0</td>\n",
       "      <td>2025</td>\n",
       "      <td>1740</td>\n",
       "      <td>165.0</td>\n",
       "      <td>NaN</td>\n",
       "      <td>0</td>\n",
       "      <td>NaN</td>\n",
       "      <td>...</td>\n",
       "      <td>2</td>\n",
       "      <td>NaN</td>\n",
       "      <td>PHL</td>\n",
       "      <td>NaN</td>\n",
       "      <td>N512AU</td>\n",
       "      <td>3.0</td>\n",
       "      <td>12.0</td>\n",
       "      <td>US</td>\n",
       "      <td>NaN</td>\n",
       "      <td>1997</td>\n",
       "    </tr>\n",
       "  </tbody>\n",
       "</table>\n",
       "<p>5 rows × 29 columns</p>\n",
       "</div>"
      ],
      "text/plain": [
       "   ActualElapsedTime  AirTime  ArrDelay  ArrTime  CRSArrTime  CRSDepTime  \\\n",
       "0              154.0    122.0      90.0   1850.0        1720        1455   \n",
       "1              159.0    125.0      59.0   1703.0        1604        1510   \n",
       "2                NaN     71.0       NaN      NaN        1140        1037   \n",
       "3               70.0      NaN      80.0     20.0        2300        2100   \n",
       "4              150.0    135.0       5.0   2030.0        2025        1740   \n",
       "\n",
       "   CRSElapsedTime CancellationCode  Cancelled  CarrierDelay  ...  Month  \\\n",
       "0           145.0              NaN          0           0.0  ...      6   \n",
       "1           114.0              NaN          0           NaN  ...      9   \n",
       "2            63.0              NaN          1           NaN  ...      2   \n",
       "3            60.0              NaN          0           NaN  ...      2   \n",
       "4           165.0              NaN          0           NaN  ...      2   \n",
       "\n",
       "   NASDelay  Origin  SecurityDelay TailNum  TaxiIn  TaxiOut  UniqueCarrier  \\\n",
       "0      23.0     ORD            0.0  N293AA     8.0     24.0             AA   \n",
       "1       NaN     DTW            NaN  N8921E    19.0     15.0             NW   \n",
       "2       NaN     CVG            NaN  N331DL     4.0     15.0             DL   \n",
       "3       NaN     MDW            NaN     NaN     NaN      NaN         ML (1)   \n",
       "4       NaN     PHL            NaN  N512AU     3.0     12.0             US   \n",
       "\n",
       "   WeatherDelay  Year  \n",
       "0           0.0  2006  \n",
       "1           NaN  1997  \n",
       "2           NaN  1995  \n",
       "3           NaN  1991  \n",
       "4           NaN  1997  \n",
       "\n",
       "[5 rows x 29 columns]"
      ]
     },
     "execution_count": 3,
     "metadata": {},
     "output_type": "execute_result"
    }
   ],
   "source": [
    "airline_df[\"Distance\"] = airline_df[\"Distance\"] * 1.60934\n",
    "airline_df.head()"
   ]
  },
  {
   "cell_type": "markdown",
   "metadata": {},
   "source": [
    "### Separating into cancelled flights and normal flights that were not affected by cancellations"
   ]
  },
  {
   "cell_type": "code",
   "execution_count": 4,
   "metadata": {},
   "outputs": [],
   "source": [
    "num_cancelled_flights = airline_df[airline_df['Cancelled'] == 1].shape[0]\n",
    "total_flights = airline_df.shape[0]\n",
    "proportion_cancelled = round(num_cancelled_flights / total_flights, 5)"
   ]
  },
  {
   "cell_type": "code",
   "execution_count": 5,
   "metadata": {},
   "outputs": [
    {
     "name": "stdout",
     "output_type": "stream",
     "text": [
      "Percentage of cancelled flights(184011): 1.862% from a total of 9882798 flights\n"
     ]
    }
   ],
   "source": [
    "print (f\"Percentage of cancelled flights({num_cancelled_flights}): {proportion_cancelled * 100}% from a total of {total_flights} flights\")"
   ]
  },
  {
   "cell_type": "code",
   "execution_count": 6,
   "metadata": {},
   "outputs": [
    {
     "data": {
      "text/html": [
       "<div>\n",
       "<style scoped>\n",
       "    .dataframe tbody tr th:only-of-type {\n",
       "        vertical-align: middle;\n",
       "    }\n",
       "\n",
       "    .dataframe tbody tr th {\n",
       "        vertical-align: top;\n",
       "    }\n",
       "\n",
       "    .dataframe thead th {\n",
       "        text-align: right;\n",
       "    }\n",
       "</style>\n",
       "<table border=\"1\" class=\"dataframe\">\n",
       "  <thead>\n",
       "    <tr style=\"text-align: right;\">\n",
       "      <th></th>\n",
       "      <th>ActualElapsedTime</th>\n",
       "      <th>AirTime</th>\n",
       "      <th>ArrDelay</th>\n",
       "      <th>ArrTime</th>\n",
       "      <th>CRSArrTime</th>\n",
       "      <th>CRSDepTime</th>\n",
       "      <th>CRSElapsedTime</th>\n",
       "      <th>CancellationCode</th>\n",
       "      <th>Cancelled</th>\n",
       "      <th>CarrierDelay</th>\n",
       "      <th>...</th>\n",
       "      <th>Month</th>\n",
       "      <th>NASDelay</th>\n",
       "      <th>Origin</th>\n",
       "      <th>SecurityDelay</th>\n",
       "      <th>TailNum</th>\n",
       "      <th>TaxiIn</th>\n",
       "      <th>TaxiOut</th>\n",
       "      <th>UniqueCarrier</th>\n",
       "      <th>WeatherDelay</th>\n",
       "      <th>Year</th>\n",
       "    </tr>\n",
       "  </thead>\n",
       "  <tbody>\n",
       "    <tr>\n",
       "      <th>2</th>\n",
       "      <td>NaN</td>\n",
       "      <td>71.0</td>\n",
       "      <td>NaN</td>\n",
       "      <td>NaN</td>\n",
       "      <td>1140</td>\n",
       "      <td>1037</td>\n",
       "      <td>63.0</td>\n",
       "      <td>NaN</td>\n",
       "      <td>1</td>\n",
       "      <td>NaN</td>\n",
       "      <td>...</td>\n",
       "      <td>2</td>\n",
       "      <td>NaN</td>\n",
       "      <td>CVG</td>\n",
       "      <td>NaN</td>\n",
       "      <td>N331DL</td>\n",
       "      <td>4.0</td>\n",
       "      <td>15.0</td>\n",
       "      <td>DL</td>\n",
       "      <td>NaN</td>\n",
       "      <td>1995</td>\n",
       "    </tr>\n",
       "    <tr>\n",
       "      <th>32</th>\n",
       "      <td>NaN</td>\n",
       "      <td>NaN</td>\n",
       "      <td>NaN</td>\n",
       "      <td>NaN</td>\n",
       "      <td>1325</td>\n",
       "      <td>1325</td>\n",
       "      <td>60.0</td>\n",
       "      <td>NaN</td>\n",
       "      <td>1</td>\n",
       "      <td>NaN</td>\n",
       "      <td>...</td>\n",
       "      <td>2</td>\n",
       "      <td>NaN</td>\n",
       "      <td>DTW</td>\n",
       "      <td>NaN</td>\n",
       "      <td>NaN</td>\n",
       "      <td>NaN</td>\n",
       "      <td>NaN</td>\n",
       "      <td>WN</td>\n",
       "      <td>NaN</td>\n",
       "      <td>1988</td>\n",
       "    </tr>\n",
       "    <tr>\n",
       "      <th>51</th>\n",
       "      <td>NaN</td>\n",
       "      <td>NaN</td>\n",
       "      <td>NaN</td>\n",
       "      <td>NaN</td>\n",
       "      <td>2019</td>\n",
       "      <td>1810</td>\n",
       "      <td>69.0</td>\n",
       "      <td>NaN</td>\n",
       "      <td>1</td>\n",
       "      <td>NaN</td>\n",
       "      <td>...</td>\n",
       "      <td>5</td>\n",
       "      <td>NaN</td>\n",
       "      <td>BNA</td>\n",
       "      <td>NaN</td>\n",
       "      <td>N604DL</td>\n",
       "      <td>0.0</td>\n",
       "      <td>0.0</td>\n",
       "      <td>DL</td>\n",
       "      <td>NaN</td>\n",
       "      <td>1998</td>\n",
       "    </tr>\n",
       "    <tr>\n",
       "      <th>73</th>\n",
       "      <td>NaN</td>\n",
       "      <td>NaN</td>\n",
       "      <td>NaN</td>\n",
       "      <td>NaN</td>\n",
       "      <td>1748</td>\n",
       "      <td>1544</td>\n",
       "      <td>124.0</td>\n",
       "      <td>C</td>\n",
       "      <td>1</td>\n",
       "      <td>0.0</td>\n",
       "      <td>...</td>\n",
       "      <td>5</td>\n",
       "      <td>0.0</td>\n",
       "      <td>IAH</td>\n",
       "      <td>0.0</td>\n",
       "      <td>0</td>\n",
       "      <td>0.0</td>\n",
       "      <td>0.0</td>\n",
       "      <td>XE</td>\n",
       "      <td>0.0</td>\n",
       "      <td>2006</td>\n",
       "    </tr>\n",
       "    <tr>\n",
       "      <th>188</th>\n",
       "      <td>NaN</td>\n",
       "      <td>NaN</td>\n",
       "      <td>NaN</td>\n",
       "      <td>NaN</td>\n",
       "      <td>1622</td>\n",
       "      <td>1510</td>\n",
       "      <td>72.0</td>\n",
       "      <td>NaN</td>\n",
       "      <td>1</td>\n",
       "      <td>NaN</td>\n",
       "      <td>...</td>\n",
       "      <td>6</td>\n",
       "      <td>NaN</td>\n",
       "      <td>LGB</td>\n",
       "      <td>NaN</td>\n",
       "      <td>N901AW</td>\n",
       "      <td>0.0</td>\n",
       "      <td>0.0</td>\n",
       "      <td>HP</td>\n",
       "      <td>NaN</td>\n",
       "      <td>1996</td>\n",
       "    </tr>\n",
       "  </tbody>\n",
       "</table>\n",
       "<p>5 rows × 29 columns</p>\n",
       "</div>"
      ],
      "text/plain": [
       "     ActualElapsedTime  AirTime  ArrDelay  ArrTime  CRSArrTime  CRSDepTime  \\\n",
       "2                  NaN     71.0       NaN      NaN        1140        1037   \n",
       "32                 NaN      NaN       NaN      NaN        1325        1325   \n",
       "51                 NaN      NaN       NaN      NaN        2019        1810   \n",
       "73                 NaN      NaN       NaN      NaN        1748        1544   \n",
       "188                NaN      NaN       NaN      NaN        1622        1510   \n",
       "\n",
       "     CRSElapsedTime CancellationCode  Cancelled  CarrierDelay  ...  Month  \\\n",
       "2              63.0              NaN          1           NaN  ...      2   \n",
       "32             60.0              NaN          1           NaN  ...      2   \n",
       "51             69.0              NaN          1           NaN  ...      5   \n",
       "73            124.0                C          1           0.0  ...      5   \n",
       "188            72.0              NaN          1           NaN  ...      6   \n",
       "\n",
       "     NASDelay  Origin  SecurityDelay TailNum  TaxiIn  TaxiOut  UniqueCarrier  \\\n",
       "2         NaN     CVG            NaN  N331DL     4.0     15.0             DL   \n",
       "32        NaN     DTW            NaN     NaN     NaN      NaN             WN   \n",
       "51        NaN     BNA            NaN  N604DL     0.0      0.0             DL   \n",
       "73        0.0     IAH            0.0       0     0.0      0.0             XE   \n",
       "188       NaN     LGB            NaN  N901AW     0.0      0.0             HP   \n",
       "\n",
       "     WeatherDelay  Year  \n",
       "2             NaN  1995  \n",
       "32            NaN  1988  \n",
       "51            NaN  1998  \n",
       "73            0.0  2006  \n",
       "188           NaN  1996  \n",
       "\n",
       "[5 rows x 29 columns]"
      ]
     },
     "execution_count": 6,
     "metadata": {},
     "output_type": "execute_result"
    }
   ],
   "source": [
    "cancelled_flights = airline_df[airline_df['Cancelled'] == 1]\n",
    "cancelled_flights.head()"
   ]
  },
  {
   "cell_type": "markdown",
   "metadata": {},
   "source": [
    "## Analysis of all cancelled flights"
   ]
  },
  {
   "cell_type": "code",
   "execution_count": 7,
   "metadata": {},
   "outputs": [
    {
     "data": {
      "text/plain": [
       "(184011, 29)"
      ]
     },
     "execution_count": 7,
     "metadata": {},
     "output_type": "execute_result"
    }
   ],
   "source": [
    "cancelled_flights.shape"
   ]
  },
  {
   "cell_type": "code",
   "execution_count": 8,
   "metadata": {},
   "outputs": [
    {
     "data": {
      "text/plain": [
       "Index(['ActualElapsedTime', 'AirTime', 'ArrDelay', 'ArrTime', 'CRSArrTime',\n",
       "       'CRSDepTime', 'CRSElapsedTime', 'CancellationCode', 'Cancelled',\n",
       "       'CarrierDelay', 'DayOfWeek', 'DayofMonth', 'DepDelay', 'DepTime',\n",
       "       'Dest', 'Distance', 'Diverted', 'FlightNum', 'LateAircraftDelay',\n",
       "       'Month', 'NASDelay', 'Origin', 'SecurityDelay', 'TailNum', 'TaxiIn',\n",
       "       'TaxiOut', 'UniqueCarrier', 'WeatherDelay', 'Year'],\n",
       "      dtype='object')"
      ]
     },
     "execution_count": 8,
     "metadata": {},
     "output_type": "execute_result"
    }
   ],
   "source": [
    "cancelled_flights.columns"
   ]
  },
  {
   "cell_type": "code",
   "execution_count": 9,
   "metadata": {},
   "outputs": [
    {
     "data": {
      "text/html": [
       "<div>\n",
       "<style scoped>\n",
       "    .dataframe tbody tr th:only-of-type {\n",
       "        vertical-align: middle;\n",
       "    }\n",
       "\n",
       "    .dataframe tbody tr th {\n",
       "        vertical-align: top;\n",
       "    }\n",
       "\n",
       "    .dataframe thead th {\n",
       "        text-align: right;\n",
       "    }\n",
       "</style>\n",
       "<table border=\"1\" class=\"dataframe\">\n",
       "  <thead>\n",
       "    <tr style=\"text-align: right;\">\n",
       "      <th></th>\n",
       "      <th>CancellationCode</th>\n",
       "      <th>Cancelled</th>\n",
       "      <th>CarrierDelay</th>\n",
       "      <th>DayOfWeek</th>\n",
       "      <th>DayofMonth</th>\n",
       "      <th>DepDelay</th>\n",
       "      <th>Dest</th>\n",
       "      <th>Distance</th>\n",
       "      <th>FlightNum</th>\n",
       "      <th>LateAircraftDelay</th>\n",
       "      <th>Month</th>\n",
       "      <th>NASDelay</th>\n",
       "      <th>Origin</th>\n",
       "      <th>SecurityDelay</th>\n",
       "      <th>TailNum</th>\n",
       "      <th>TaxiIn</th>\n",
       "      <th>TaxiOut</th>\n",
       "      <th>UniqueCarrier</th>\n",
       "      <th>WeatherDelay</th>\n",
       "      <th>Year</th>\n",
       "    </tr>\n",
       "  </thead>\n",
       "  <tbody>\n",
       "    <tr>\n",
       "      <th>73</th>\n",
       "      <td>C</td>\n",
       "      <td>1</td>\n",
       "      <td>0.0</td>\n",
       "      <td>1</td>\n",
       "      <td>29</td>\n",
       "      <td>NaN</td>\n",
       "      <td>BNA</td>\n",
       "      <td>1057.33638</td>\n",
       "      <td>2767</td>\n",
       "      <td>0.0</td>\n",
       "      <td>5</td>\n",
       "      <td>0.0</td>\n",
       "      <td>IAH</td>\n",
       "      <td>0.0</td>\n",
       "      <td>0</td>\n",
       "      <td>0.0</td>\n",
       "      <td>0.0</td>\n",
       "      <td>XE</td>\n",
       "      <td>0.0</td>\n",
       "      <td>2006</td>\n",
       "    </tr>\n",
       "    <tr>\n",
       "      <th>242</th>\n",
       "      <td>A</td>\n",
       "      <td>1</td>\n",
       "      <td>0.0</td>\n",
       "      <td>4</td>\n",
       "      <td>24</td>\n",
       "      <td>NaN</td>\n",
       "      <td>DCA</td>\n",
       "      <td>365.32018</td>\n",
       "      <td>1620</td>\n",
       "      <td>0.0</td>\n",
       "      <td>2</td>\n",
       "      <td>0.0</td>\n",
       "      <td>RDU</td>\n",
       "      <td>0.0</td>\n",
       "      <td>0</td>\n",
       "      <td>0.0</td>\n",
       "      <td>0.0</td>\n",
       "      <td>US</td>\n",
       "      <td>0.0</td>\n",
       "      <td>2005</td>\n",
       "    </tr>\n",
       "    <tr>\n",
       "      <th>295</th>\n",
       "      <td>A</td>\n",
       "      <td>1</td>\n",
       "      <td>NaN</td>\n",
       "      <td>6</td>\n",
       "      <td>10</td>\n",
       "      <td>NaN</td>\n",
       "      <td>LAX</td>\n",
       "      <td>2808.29830</td>\n",
       "      <td>67</td>\n",
       "      <td>NaN</td>\n",
       "      <td>5</td>\n",
       "      <td>NaN</td>\n",
       "      <td>ORD</td>\n",
       "      <td>NaN</td>\n",
       "      <td>NaN</td>\n",
       "      <td>NaN</td>\n",
       "      <td>NaN</td>\n",
       "      <td>UA</td>\n",
       "      <td>NaN</td>\n",
       "      <td>2008</td>\n",
       "    </tr>\n",
       "    <tr>\n",
       "      <th>336</th>\n",
       "      <td>C</td>\n",
       "      <td>1</td>\n",
       "      <td>0.0</td>\n",
       "      <td>6</td>\n",
       "      <td>14</td>\n",
       "      <td>NaN</td>\n",
       "      <td>MCO</td>\n",
       "      <td>1372.76702</td>\n",
       "      <td>786</td>\n",
       "      <td>0.0</td>\n",
       "      <td>8</td>\n",
       "      <td>0.0</td>\n",
       "      <td>IAH</td>\n",
       "      <td>0.0</td>\n",
       "      <td>0</td>\n",
       "      <td>0.0</td>\n",
       "      <td>0.0</td>\n",
       "      <td>CO</td>\n",
       "      <td>0.0</td>\n",
       "      <td>2004</td>\n",
       "    </tr>\n",
       "    <tr>\n",
       "      <th>727</th>\n",
       "      <td>A</td>\n",
       "      <td>1</td>\n",
       "      <td>0.0</td>\n",
       "      <td>5</td>\n",
       "      <td>2</td>\n",
       "      <td>NaN</td>\n",
       "      <td>DEN</td>\n",
       "      <td>115.87248</td>\n",
       "      <td>906</td>\n",
       "      <td>0.0</td>\n",
       "      <td>1</td>\n",
       "      <td>0.0</td>\n",
       "      <td>COS</td>\n",
       "      <td>0.0</td>\n",
       "      <td>000000</td>\n",
       "      <td>0.0</td>\n",
       "      <td>0.0</td>\n",
       "      <td>UA</td>\n",
       "      <td>0.0</td>\n",
       "      <td>2004</td>\n",
       "    </tr>\n",
       "  </tbody>\n",
       "</table>\n",
       "</div>"
      ],
      "text/plain": [
       "    CancellationCode  Cancelled  CarrierDelay  DayOfWeek  DayofMonth  \\\n",
       "73                 C          1           0.0          1          29   \n",
       "242                A          1           0.0          4          24   \n",
       "295                A          1           NaN          6          10   \n",
       "336                C          1           0.0          6          14   \n",
       "727                A          1           0.0          5           2   \n",
       "\n",
       "     DepDelay Dest    Distance  FlightNum  LateAircraftDelay  Month  NASDelay  \\\n",
       "73        NaN  BNA  1057.33638       2767                0.0      5       0.0   \n",
       "242       NaN  DCA   365.32018       1620                0.0      2       0.0   \n",
       "295       NaN  LAX  2808.29830         67                NaN      5       NaN   \n",
       "336       NaN  MCO  1372.76702        786                0.0      8       0.0   \n",
       "727       NaN  DEN   115.87248        906                0.0      1       0.0   \n",
       "\n",
       "    Origin  SecurityDelay TailNum  TaxiIn  TaxiOut UniqueCarrier  \\\n",
       "73     IAH            0.0       0     0.0      0.0            XE   \n",
       "242    RDU            0.0       0     0.0      0.0            US   \n",
       "295    ORD            NaN     NaN     NaN      NaN            UA   \n",
       "336    IAH            0.0       0     0.0      0.0            CO   \n",
       "727    COS            0.0  000000     0.0      0.0            UA   \n",
       "\n",
       "     WeatherDelay  Year  \n",
       "73            0.0  2006  \n",
       "242           0.0  2005  \n",
       "295           NaN  2008  \n",
       "336           0.0  2004  \n",
       "727           0.0  2004  "
      ]
     },
     "execution_count": 9,
     "metadata": {},
     "output_type": "execute_result"
    }
   ],
   "source": [
    "\"\"\" \n",
    "['ActualElapsedTime', 'AirTime', 'ArrDelay', 'ArrTime', 'CRSArrTime',\n",
    "       'CRSDepTime', 'CRSElapsedTime', 'CancellationCode', 'Cancelled',\n",
    "       'CarrierDelay', 'DayOfWeek', 'DayofMonth', 'DepDelay', 'DepTime',\n",
    "       'Dest', 'Distance', 'Diverted', 'FlightNum', 'LateAircraftDelay',\n",
    "       'Month', 'NASDelay', 'Origin', 'SecurityDelay', 'TailNum', 'TaxiIn',\n",
    "       'TaxiOut', 'UniqueCarrier', 'WeatherDelay', 'Year']\n",
    "\"\"\"\n",
    "\n",
    "cancelled_flights = cancelled_flights.drop([\n",
    "    \"ActualElapsedTime\",\n",
    "    \"AirTime\",\n",
    "    \"ArrDelay\", \n",
    "    \"ArrTime\", \n",
    "    \"CRSArrTime\", \n",
    "    \"CRSDepTime\", \n",
    "    \"CRSElapsedTime\", \n",
    "    \"DepTime\", \n",
    "    \"Diverted\"\n",
    "], axis=1)\n",
    "\n",
    "cancelled_flights_with_cancellationCode = cancelled_flights.dropna(subset=[\"CancellationCode\"])\n",
    "\n",
    "cancelled_flights_with_cancellationCode.head()"
   ]
  },
  {
   "cell_type": "code",
   "execution_count": 10,
   "metadata": {},
   "outputs": [],
   "source": [
    "cancelled_flights_with_cancellationCode.to_csv(\"../dataset/cancelled_flights_with_cancellationCode.csv\")"
   ]
  },
  {
   "cell_type": "code",
   "execution_count": 11,
   "metadata": {},
   "outputs": [
    {
     "data": {
      "text/plain": [
       "58603"
      ]
     },
     "execution_count": 11,
     "metadata": {},
     "output_type": "execute_result"
    }
   ],
   "source": [
    "cancelled_flights_with_cancellationCode.shape[0]"
   ]
  },
  {
   "cell_type": "code",
   "execution_count": 12,
   "metadata": {},
   "outputs": [
    {
     "data": {
      "text/plain": [
       "CancellationCode\n",
       "A    25291\n",
       "B    21428\n",
       "C    11845\n",
       "D       39\n",
       "Name: count, dtype: int64"
      ]
     },
     "execution_count": 12,
     "metadata": {},
     "output_type": "execute_result"
    }
   ],
   "source": [
    "cancelled_flights_with_cancellationCode['CancellationCode'].value_counts()"
   ]
  },
  {
   "cell_type": "markdown",
   "metadata": {},
   "source": [
    "### Reasons for cancellation\n",
    "- the first year in which there were cancellation codes was starting from <b> 2003 </b>"
   ]
  },
  {
   "cell_type": "code",
   "execution_count": 13,
   "metadata": {},
   "outputs": [
    {
     "name": "stdout",
     "output_type": "stream",
     "text": [
      "Proportion of flights cancelled due to Carrier issues starting from 2003 with Cancellation Code: 43.15649%\n",
      "Proportion of flights cancelled due to Weather issues starting from 2003 with Cancellation Code: 36.56468%\n",
      "Proportion of flights cancelled due to NAS issues starting from 2003 with Cancellation Code: 20.21228%\n",
      "Proportion of flights cancelled due to Security issues starting from 2003 with Cancellation Code: 0.06655%\n"
     ]
    }
   ],
   "source": [
    "print (\"Proportion of flights cancelled due to Carrier issues starting from 2003 with Cancellation Code: \" + str(round(cancelled_flights_with_cancellationCode[\"CancellationCode\"].value_counts()[\"A\"] / cancelled_flights_with_cancellationCode.shape[0] * 100, 5)) + \"%\")\n",
    "print (\"Proportion of flights cancelled due to Weather issues starting from 2003 with Cancellation Code: \" + str(round(cancelled_flights_with_cancellationCode[\"CancellationCode\"].value_counts()[\"B\"] / cancelled_flights_with_cancellationCode.shape[0] * 100, 5)) + \"%\")\n",
    "print (\"Proportion of flights cancelled due to NAS issues starting from 2003 with Cancellation Code: \" + str(round(cancelled_flights_with_cancellationCode[\"CancellationCode\"].value_counts()[\"C\"] / cancelled_flights_with_cancellationCode.shape[0] * 100, 5)) + \"%\")\n",
    "print (\"Proportion of flights cancelled due to Security issues starting from 2003 with Cancellation Code: \" + str(round(cancelled_flights_with_cancellationCode[\"CancellationCode\"].value_counts()[\"D\"] / cancelled_flights_with_cancellationCode.shape[0] * 100, 5)) + \"%\")"
   ]
  },
  {
   "cell_type": "code",
   "execution_count": 30,
   "metadata": {},
   "outputs": [
    {
     "name": "stdout",
     "output_type": "stream",
     "text": [
      "Proportion of flights cancelled due to Carrier issues from all cancelled flights: 13.74429%\n",
      "Proportion of flights cancelled due to Weather issues from all cancelled flights: 11.64496%\n",
      "Proportion of flights cancelled due to NAS issues from all cancelled flights: 6.43712%\n",
      "Proportion of flights cancelled due to Security issues from all cancelled flights: 0.02119%\n"
     ]
    }
   ],
   "source": [
    "print (\"Proportion of flights cancelled due to Carrier issues from all cancelled flights: \" + str(round(cancelled_flights_with_cancellationCode[\"CancellationCode\"].value_counts()[\"A\"] / cancelled_flights.shape[0] * 100, 5)) + \"%\")\n",
    "print (\"Proportion of flights cancelled due to Weather issues from all cancelled flights: \" + str(round(cancelled_flights_with_cancellationCode[\"CancellationCode\"].value_counts()[\"B\"] / cancelled_flights.shape[0] * 100, 5)) + \"%\")\n",
    "print (\"Proportion of flights cancelled due to NAS issues from all cancelled flights: \" + str(round(cancelled_flights_with_cancellationCode[\"CancellationCode\"].value_counts()[\"C\"] / cancelled_flights.shape[0] * 100, 5)) + \"%\")\n",
    "print (\"Proportion of flights cancelled due to Security issues from all cancelled flights: \" + str(round(cancelled_flights_with_cancellationCode[\"CancellationCode\"].value_counts()[\"D\"] / cancelled_flights.shape[0] * 100, 5)) + \"%\")"
   ]
  },
  {
   "cell_type": "code",
   "execution_count": 28,
   "metadata": {},
   "outputs": [
    {
     "data": {
      "image/png": "[encoded data removed]",
      "text/plain": [
       "<Figure size 1000x600 with 1 Axes>"
      ]
     },
     "metadata": {},
     "output_type": "display_data"
    }
   ],
   "source": [
    "proportions = [\n",
    "    round(cancelled_flights_with_cancellationCode[\"CancellationCode\"].value_counts()[\"A\"] / cancelled_flights_with_cancellationCode.shape[0] * 100, 5),\n",
    "    round(cancelled_flights_with_cancellationCode[\"CancellationCode\"].value_counts()[\"B\"] / cancelled_flights_with_cancellationCode.shape[0] * 100, 5),\n",
    "    round(cancelled_flights_with_cancellationCode[\"CancellationCode\"].value_counts()[\"C\"] / cancelled_flights_with_cancellationCode.shape[0] * 100, 5),\n",
    "    round(cancelled_flights_with_cancellationCode[\"CancellationCode\"].value_counts()[\"D\"] / cancelled_flights_with_cancellationCode.shape[0] * 100, 5)\n",
    "]\n",
    "labels = ['Carrier issues', 'Weather issues', 'NAS issues', 'Security issues']\n",
    "\n",
    "plt.figure(figsize=(10, 6))\n",
    "plt.pie(proportions, labels=labels, autopct='%1.2f%%', startangle=140)\n",
    "\n",
    "plt.axis('equal')\n",
    "plt.title('Proportion of flights cancelled due to different issues starting from 2003')\n",
    "plt.show()"
   ]
  },
  {
   "cell_type": "code",
   "execution_count": 14,
   "metadata": {},
   "outputs": [
    {
     "data": {
      "text/plain": [
       "Year\n",
       "2003     4249\n",
       "2004    10072\n",
       "2005    10715\n",
       "2006     9726\n",
       "2007    12882\n",
       "2008    10959\n",
       "Name: count, dtype: int64"
      ]
     },
     "execution_count": 14,
     "metadata": {},
     "output_type": "execute_result"
    }
   ],
   "source": [
    "cancelled_flights_with_cancellationCode[\"Year\"].value_counts().sort_index()"
   ]
  },
  {
   "cell_type": "code",
   "execution_count": 15,
   "metadata": {},
   "outputs": [
    {
     "data": {
      "text/plain": [
       "2003"
      ]
     },
     "execution_count": 15,
     "metadata": {},
     "output_type": "execute_result"
    }
   ],
   "source": [
    "first_year_with_cancellationCode = cancelled_flights_with_cancellationCode[\"Year\"].min()\n",
    "first_year_with_cancellationCode"
   ]
  },
  {
   "cell_type": "code",
   "execution_count": 16,
   "metadata": {},
   "outputs": [
    {
     "name": "stdout",
     "output_type": "stream",
     "text": [
      "Proportion of well documented cancelled flights: 31.84755%\n"
     ]
    }
   ],
   "source": [
    "print (\"Proportion of well documented cancelled flights: \" + str(round(cancelled_flights_with_cancellationCode.shape[0] / cancelled_flights.shape[0] * 100, 5)) + \"%\")"
   ]
  },
  {
   "cell_type": "code",
   "execution_count": 17,
   "metadata": {},
   "outputs": [
    {
     "data": {
      "text/html": [
       "<div>\n",
       "<style scoped>\n",
       "    .dataframe tbody tr th:only-of-type {\n",
       "        vertical-align: middle;\n",
       "    }\n",
       "\n",
       "    .dataframe tbody tr th {\n",
       "        vertical-align: top;\n",
       "    }\n",
       "\n",
       "    .dataframe thead th {\n",
       "        text-align: right;\n",
       "    }\n",
       "</style>\n",
       "<table border=\"1\" class=\"dataframe\">\n",
       "  <thead>\n",
       "    <tr style=\"text-align: right;\">\n",
       "      <th></th>\n",
       "      <th>CancellationCode</th>\n",
       "      <th>Cancelled</th>\n",
       "      <th>CarrierDelay</th>\n",
       "      <th>DayOfWeek</th>\n",
       "      <th>DayofMonth</th>\n",
       "      <th>DepDelay</th>\n",
       "      <th>Dest</th>\n",
       "      <th>Distance</th>\n",
       "      <th>FlightNum</th>\n",
       "      <th>LateAircraftDelay</th>\n",
       "      <th>Month</th>\n",
       "      <th>NASDelay</th>\n",
       "      <th>Origin</th>\n",
       "      <th>SecurityDelay</th>\n",
       "      <th>TailNum</th>\n",
       "      <th>TaxiIn</th>\n",
       "      <th>TaxiOut</th>\n",
       "      <th>UniqueCarrier</th>\n",
       "      <th>WeatherDelay</th>\n",
       "      <th>Year</th>\n",
       "    </tr>\n",
       "  </thead>\n",
       "  <tbody>\n",
       "    <tr>\n",
       "      <th>2</th>\n",
       "      <td>NaN</td>\n",
       "      <td>1</td>\n",
       "      <td>NaN</td>\n",
       "      <td>7</td>\n",
       "      <td>5</td>\n",
       "      <td>NaN</td>\n",
       "      <td>GRR</td>\n",
       "      <td>431.30312</td>\n",
       "      <td>1610</td>\n",
       "      <td>NaN</td>\n",
       "      <td>2</td>\n",
       "      <td>NaN</td>\n",
       "      <td>CVG</td>\n",
       "      <td>NaN</td>\n",
       "      <td>N331DL</td>\n",
       "      <td>4.0</td>\n",
       "      <td>15.0</td>\n",
       "      <td>DL</td>\n",
       "      <td>NaN</td>\n",
       "      <td>1995</td>\n",
       "    </tr>\n",
       "    <tr>\n",
       "      <th>32</th>\n",
       "      <td>NaN</td>\n",
       "      <td>1</td>\n",
       "      <td>NaN</td>\n",
       "      <td>2</td>\n",
       "      <td>9</td>\n",
       "      <td>NaN</td>\n",
       "      <td>MDW</td>\n",
       "      <td>368.53886</td>\n",
       "      <td>725</td>\n",
       "      <td>NaN</td>\n",
       "      <td>2</td>\n",
       "      <td>NaN</td>\n",
       "      <td>DTW</td>\n",
       "      <td>NaN</td>\n",
       "      <td>NaN</td>\n",
       "      <td>NaN</td>\n",
       "      <td>NaN</td>\n",
       "      <td>WN</td>\n",
       "      <td>NaN</td>\n",
       "      <td>1988</td>\n",
       "    </tr>\n",
       "    <tr>\n",
       "      <th>51</th>\n",
       "      <td>NaN</td>\n",
       "      <td>1</td>\n",
       "      <td>NaN</td>\n",
       "      <td>6</td>\n",
       "      <td>16</td>\n",
       "      <td>NaN</td>\n",
       "      <td>ATL</td>\n",
       "      <td>344.39876</td>\n",
       "      <td>580</td>\n",
       "      <td>NaN</td>\n",
       "      <td>5</td>\n",
       "      <td>NaN</td>\n",
       "      <td>BNA</td>\n",
       "      <td>NaN</td>\n",
       "      <td>N604DL</td>\n",
       "      <td>0.0</td>\n",
       "      <td>0.0</td>\n",
       "      <td>DL</td>\n",
       "      <td>NaN</td>\n",
       "      <td>1998</td>\n",
       "    </tr>\n",
       "    <tr>\n",
       "      <th>188</th>\n",
       "      <td>NaN</td>\n",
       "      <td>1</td>\n",
       "      <td>NaN</td>\n",
       "      <td>3</td>\n",
       "      <td>26</td>\n",
       "      <td>NaN</td>\n",
       "      <td>PHX</td>\n",
       "      <td>571.31570</td>\n",
       "      <td>2406</td>\n",
       "      <td>NaN</td>\n",
       "      <td>6</td>\n",
       "      <td>NaN</td>\n",
       "      <td>LGB</td>\n",
       "      <td>NaN</td>\n",
       "      <td>N901AW</td>\n",
       "      <td>0.0</td>\n",
       "      <td>0.0</td>\n",
       "      <td>HP</td>\n",
       "      <td>NaN</td>\n",
       "      <td>1996</td>\n",
       "    </tr>\n",
       "    <tr>\n",
       "      <th>310</th>\n",
       "      <td>NaN</td>\n",
       "      <td>1</td>\n",
       "      <td>NaN</td>\n",
       "      <td>3</td>\n",
       "      <td>3</td>\n",
       "      <td>NaN</td>\n",
       "      <td>IAH</td>\n",
       "      <td>904.44908</td>\n",
       "      <td>1215</td>\n",
       "      <td>NaN</td>\n",
       "      <td>6</td>\n",
       "      <td>NaN</td>\n",
       "      <td>BHM</td>\n",
       "      <td>NaN</td>\n",
       "      <td>UNKNOW</td>\n",
       "      <td>0.0</td>\n",
       "      <td>0.0</td>\n",
       "      <td>CO</td>\n",
       "      <td>NaN</td>\n",
       "      <td>1998</td>\n",
       "    </tr>\n",
       "  </tbody>\n",
       "</table>\n",
       "</div>"
      ],
      "text/plain": [
       "    CancellationCode  Cancelled  CarrierDelay  DayOfWeek  DayofMonth  \\\n",
       "2                NaN          1           NaN          7           5   \n",
       "32               NaN          1           NaN          2           9   \n",
       "51               NaN          1           NaN          6          16   \n",
       "188              NaN          1           NaN          3          26   \n",
       "310              NaN          1           NaN          3           3   \n",
       "\n",
       "     DepDelay Dest   Distance  FlightNum  LateAircraftDelay  Month  NASDelay  \\\n",
       "2         NaN  GRR  431.30312       1610                NaN      2       NaN   \n",
       "32        NaN  MDW  368.53886        725                NaN      2       NaN   \n",
       "51        NaN  ATL  344.39876        580                NaN      5       NaN   \n",
       "188       NaN  PHX  571.31570       2406                NaN      6       NaN   \n",
       "310       NaN  IAH  904.44908       1215                NaN      6       NaN   \n",
       "\n",
       "    Origin  SecurityDelay TailNum  TaxiIn  TaxiOut UniqueCarrier  \\\n",
       "2      CVG            NaN  N331DL     4.0     15.0            DL   \n",
       "32     DTW            NaN     NaN     NaN      NaN            WN   \n",
       "51     BNA            NaN  N604DL     0.0      0.0            DL   \n",
       "188    LGB            NaN  N901AW     0.0      0.0            HP   \n",
       "310    BHM            NaN  UNKNOW     0.0      0.0            CO   \n",
       "\n",
       "     WeatherDelay  Year  \n",
       "2             NaN  1995  \n",
       "32            NaN  1988  \n",
       "51            NaN  1998  \n",
       "188           NaN  1996  \n",
       "310           NaN  1998  "
      ]
     },
     "execution_count": 17,
     "metadata": {},
     "output_type": "execute_result"
    }
   ],
   "source": [
    "cancelled_flights_without_cancellationCode = cancelled_flights[cancelled_flights[\"CancellationCode\"].isna()]\n",
    "cancelled_flights_without_cancellationCode.head()"
   ]
  },
  {
   "cell_type": "code",
   "execution_count": 20,
   "metadata": {},
   "outputs": [
    {
     "data": {
      "text/plain": [
       "2003"
      ]
     },
     "execution_count": 20,
     "metadata": {},
     "output_type": "execute_result"
    }
   ],
   "source": [
    "last_year_without_cancellationCode = cancelled_flights_without_cancellationCode[\"Year\"].max()\n",
    "last_year_without_cancellationCode"
   ]
  },
  {
   "cell_type": "markdown",
   "metadata": {},
   "source": [
    "### Analysing the data with Cancellation Code"
   ]
  },
  {
   "cell_type": "code",
   "execution_count": 25,
   "metadata": {},
   "outputs": [],
   "source": [
    "columns_of_interest = ['UniqueCarrier', 'DayOfWeek', 'DayofMonth', 'Distance', 'Dest', 'Origin', 'Month', 'Year']"
   ]
  },
  {
   "cell_type": "code",
   "execution_count": 23,
   "metadata": {},
   "outputs": [],
   "source": [
    "cancellation_codes = ['A', 'B', 'C', 'D']"
   ]
  },
  {
   "cell_type": "markdown",
   "metadata": {},
   "source": [
    "### Analysing the data without Cancellation Code"
   ]
  },
  {
   "cell_type": "code",
   "execution_count": 21,
   "metadata": {},
   "outputs": [
    {
     "data": {
      "text/plain": [
       "Year\n",
       "1987     1593\n",
       "1988     3892\n",
       "1989     5918\n",
       "1990     4209\n",
       "1991     3420\n",
       "1992     4264\n",
       "1993     4850\n",
       "1994     5315\n",
       "1995     7392\n",
       "1996    10190\n",
       "1997     7858\n",
       "1998    11334\n",
       "1999    12360\n",
       "2000    15036\n",
       "2001    18661\n",
       "2002     5198\n",
       "2003     3918\n",
       "Name: count, dtype: int64"
      ]
     },
     "execution_count": 21,
     "metadata": {},
     "output_type": "execute_result"
    }
   ],
   "source": [
    "cancelled_flights_without_cancellationCode[\"Year\"].value_counts().sort_index()"
   ]
  },
  {
   "cell_type": "code",
   "execution_count": 25,
   "metadata": {},
   "outputs": [
    {
     "data": {
      "text/plain": [
       "125408"
      ]
     },
     "execution_count": 25,
     "metadata": {},
     "output_type": "execute_result"
    }
   ],
   "source": [
    "cancelled_flights_without_cancellationCode[\"DepDelay\"].isna().sum()"
   ]
  },
  {
   "cell_type": "code",
   "execution_count": 18,
   "metadata": {},
   "outputs": [],
   "source": [
    "cancelled_flights_without_cancellationCode.to_csv(\"../dataset/cancelled_flights_without_cancellationCode.csv\")"
   ]
  },
  {
   "cell_type": "markdown",
   "metadata": {},
   "source": [
    "### Seeing proportion of flights that are cancelled if they are long-haul or not\n",
    "- Condition: long-haul flights: >=3000km\n",
    "\n",
    "<b> Ans: </b> \n",
    "1. Based on the results below, it shows that the avg distance of cancelled flights is 977.63km.\n",
    "2. More than 75% of flights cancelled are considered short-haul as the 75th percentile of flights cancelled has a distance of 1266.55km"
   ]
  },
  {
   "cell_type": "code",
   "execution_count": 23,
   "metadata": {},
   "outputs": [
    {
     "data": {
      "text/plain": [
       "162"
      ]
     },
     "execution_count": 23,
     "metadata": {},
     "output_type": "execute_result"
    }
   ],
   "source": [
    "cancelled_flights[\"Distance\"].isnull().sum()"
   ]
  },
  {
   "cell_type": "code",
   "execution_count": 55,
   "metadata": {},
   "outputs": [
    {
     "data": {
      "text/plain": [
       "count    183849.000000\n",
       "mean        977.628133\n",
       "std         776.148423\n",
       "min          17.702740\n",
       "25%         424.865760\n",
       "50%         740.296400\n",
       "75%        1266.550580\n",
       "max        7985.545080\n",
       "Name: Distance, dtype: float64"
      ]
     },
     "execution_count": 55,
     "metadata": {},
     "output_type": "execute_result"
    }
   ],
   "source": [
    "cancelled_flights[\"Distance\"].describe()"
   ]
  },
  {
   "cell_type": "markdown",
   "metadata": {},
   "source": [
    "### Seeing what is airline is the one that results in the most number of cancellations\n",
    "\n",
    "<b> Breaking them down into: </b>\n",
    "- which year\n",
    "- destination of flight\n",
    "- if there is a cancellation code, provide the cancellation code as well"
   ]
  },
  {
   "cell_type": "code",
   "execution_count": 59,
   "metadata": {},
   "outputs": [
    {
     "data": {
      "text/plain": [
       "UniqueCarrier\n",
       "US        23250\n",
       "UA        23234\n",
       "AA        22778\n",
       "DL        20678\n",
       "NW        17130\n",
       "MQ        12641\n",
       "WN        12335\n",
       "CO         9173\n",
       "TW         5357\n",
       "OO         5107\n",
       "AS         4602\n",
       "HP         4448\n",
       "XE         4214\n",
       "OH         3844\n",
       "EV         3831\n",
       "YV         2405\n",
       "EA         2331\n",
       "DH         1716\n",
       "9E         1208\n",
       "FL         1008\n",
       "B6          750\n",
       "PI          674\n",
       "PA (1)      291\n",
       "AQ          222\n",
       "TZ          191\n",
       "F9          131\n",
       "ML (1)      114\n",
       "HA          108\n",
       "PS           78\n",
       "Name: count, dtype: int64"
      ]
     },
     "execution_count": 59,
     "metadata": {},
     "output_type": "execute_result"
    }
   ],
   "source": [
    "cancelled_flights[\"UniqueCarrier\"].value_counts()"
   ]
  },
  {
   "cell_type": "code",
   "execution_count": 31,
   "metadata": {},
   "outputs": [
    {
     "data": {
      "text/plain": [
       "Origin\n",
       "ORD    15818\n",
       "ATL     8555\n",
       "DFW     8345\n",
       "LGA     6638\n",
       "EWR     6498\n",
       "       ...  \n",
       "LWS        1\n",
       "KSM        1\n",
       "EAU        1\n",
       "MKK        1\n",
       "MAZ        1\n",
       "Name: count, Length: 325, dtype: int64"
      ]
     },
     "execution_count": 31,
     "metadata": {},
     "output_type": "execute_result"
    }
   ],
   "source": [
    "cancelled_flights[\"Origin\"].value_counts()"
   ]
  },
  {
   "cell_type": "markdown",
   "metadata": {},
   "source": [
    "### Quick analysis of only the carrier resulting in the most cancellations (Code: US)\n",
    "- Carrier issues account for the most cancellations still amongst the 4 factors given\n",
    "- The top 5 airports that have the most cancellations are:\n",
    "    1. Charlotte Douglas International Airport\n",
    "    2. Philadelphia International Airport\n",
    "    3. Pittsburgh International Airport\n",
    "    4. Boston Logan International Airport\n",
    "    5. LaGuardia Airport"
   ]
  },
  {
   "cell_type": "code",
   "execution_count": 61,
   "metadata": {},
   "outputs": [
    {
     "data": {
      "text/plain": [
       "23250"
      ]
     },
     "execution_count": 61,
     "metadata": {},
     "output_type": "execute_result"
    }
   ],
   "source": [
    "us_flights = cancelled_flights[cancelled_flights[\"UniqueCarrier\"] == \"US\"]\n",
    "us_flights.shape[0]"
   ]
  },
  {
   "cell_type": "code",
   "execution_count": 62,
   "metadata": {},
   "outputs": [
    {
     "data": {
      "text/plain": [
       "CancellationCode\n",
       "A    1742\n",
       "C     709\n",
       "B     671\n",
       "D       1\n",
       "Name: count, dtype: int64"
      ]
     },
     "execution_count": 62,
     "metadata": {},
     "output_type": "execute_result"
    }
   ],
   "source": [
    "us_flights[\"CancellationCode\"].value_counts()"
   ]
  },
  {
   "cell_type": "code",
   "execution_count": 63,
   "metadata": {},
   "outputs": [
    {
     "name": "stdout",
     "output_type": "stream",
     "text": [
      "Proportion of US flights cancelled due to Carrier issues: 7.49247%\n",
      "Proportion of US flights cancelled due to Weather issues: 2.88602%\n",
      "Proportion of US flights cancelled due to NAS issues: 3.04946%\n",
      "Proportion of US flights cancelled due to Security issues: 0.0043%\n"
     ]
    }
   ],
   "source": [
    "print (\"Proportion of US flights cancelled due to Carrier issues: \" + str(round(us_flights[\"CancellationCode\"].value_counts()[\"A\"] / us_flights.shape[0] * 100, 5)) + \"%\")\n",
    "print (\"Proportion of US flights cancelled due to Weather issues: \" + str(round(us_flights[\"CancellationCode\"].value_counts()[\"B\"] / us_flights.shape[0] * 100, 5)) + \"%\")\n",
    "print (\"Proportion of US flights cancelled due to NAS issues: \" + str(round(us_flights[\"CancellationCode\"].value_counts()[\"C\"] / us_flights.shape[0] * 100, 5)) + \"%\")\n",
    "print (\"Proportion of US flights cancelled due to Security issues: \" + str(round(us_flights[\"CancellationCode\"].value_counts()[\"D\"] / us_flights.shape[0] * 100, 5)) + \"%\")"
   ]
  },
  {
   "cell_type": "code",
   "execution_count": 66,
   "metadata": {},
   "outputs": [
    {
     "data": {
      "text/plain": [
       "Year\n",
       "1999    2592\n",
       "2001    2497\n",
       "2000    2247\n",
       "1994    1576\n",
       "1996    1571\n",
       "1992    1502\n",
       "1998    1343\n",
       "1993    1164\n",
       "1995    1117\n",
       "1989    1006\n",
       "1997    1001\n",
       "1990     897\n",
       "2007     710\n",
       "2005     633\n",
       "2008     540\n",
       "2004     533\n",
       "2003     519\n",
       "1991     518\n",
       "2002     445\n",
       "2006     424\n",
       "1988     366\n",
       "1987      49\n",
       "Name: count, dtype: int64"
      ]
     },
     "execution_count": 66,
     "metadata": {},
     "output_type": "execute_result"
    }
   ],
   "source": [
    "us_flights[\"Year\"].value_counts()"
   ]
  },
  {
   "cell_type": "code",
   "execution_count": 72,
   "metadata": {},
   "outputs": [
    {
     "data": {
      "text/plain": [
       "Origin\n",
       "CLT    2672\n",
       "PHL    2448\n",
       "PIT    2445\n",
       "BOS    1690\n",
       "LGA    1416\n",
       "       ... \n",
       "BGR       1\n",
       "EYW       1\n",
       "DSM       1\n",
       "YKM       1\n",
       "BOI       1\n",
       "Name: count, Length: 149, dtype: int64"
      ]
     },
     "execution_count": 72,
     "metadata": {},
     "output_type": "execute_result"
    }
   ],
   "source": [
    "origin_counter = us_flights[\"Origin\"].value_counts()\n",
    "origin_counter"
   ]
  },
  {
   "cell_type": "code",
   "execution_count": 73,
   "metadata": {},
   "outputs": [
    {
     "data": {
      "text/plain": [
       "Dest\n",
       "CLT    3007\n",
       "PIT    2769\n",
       "PHL    2416\n",
       "BOS    1623\n",
       "LGA    1377\n",
       "       ... \n",
       "ACY       1\n",
       "LWB       1\n",
       "HNL       1\n",
       "GEG       1\n",
       "TTN       1\n",
       "Name: count, Length: 149, dtype: int64"
      ]
     },
     "execution_count": 73,
     "metadata": {},
     "output_type": "execute_result"
    }
   ],
   "source": [
    "dest_counter = us_flights[\"Dest\"].value_counts()\n",
    "dest_counter"
   ]
  },
  {
   "cell_type": "code",
   "execution_count": 79,
   "metadata": {},
   "outputs": [
    {
     "data": {
      "text/plain": [
       "CLT    2839.5\n",
       "PHL    2432.0\n",
       "PIT    2607.0\n",
       "BOS    1656.5\n",
       "LGA    1396.5\n",
       "        ...  \n",
       "BGR       0.5\n",
       "EYW       1.5\n",
       "DSM       1.5\n",
       "YKM       0.5\n",
       "BOI       0.5\n",
       "Name: count, Length: 149, dtype: float64"
      ]
     },
     "execution_count": 79,
     "metadata": {},
     "output_type": "execute_result"
    }
   ],
   "source": [
    "total_counter = origin_counter.add(dest_counter, fill_value=0).filter(items=origin_counter.index, axis=0)\n",
    "avg_counter = total_counter / 2\n",
    "avg_counter"
   ]
  },
  {
   "cell_type": "code",
   "execution_count": 11,
   "metadata": {},
   "outputs": [],
   "source": [
    "cancelled_flights.to_csv(\"../dataset/cancelled_flights.csv\")"
   ]
  },
  {
   "cell_type": "markdown",
   "metadata": {},
   "source": [
    "## Analysis of flights without cancellations"
   ]
  },
  {
   "cell_type": "code",
   "execution_count": 83,
   "metadata": {},
   "outputs": [
    {
     "data": {
      "text/html": [
       "<div>\n",
       "<style scoped>\n",
       "    .dataframe tbody tr th:only-of-type {\n",
       "        vertical-align: middle;\n",
       "    }\n",
       "\n",
       "    .dataframe tbody tr th {\n",
       "        vertical-align: top;\n",
       "    }\n",
       "\n",
       "    .dataframe thead th {\n",
       "        text-align: right;\n",
       "    }\n",
       "</style>\n",
       "<table border=\"1\" class=\"dataframe\">\n",
       "  <thead>\n",
       "    <tr style=\"text-align: right;\">\n",
       "      <th></th>\n",
       "      <th>ActualElapsedTime</th>\n",
       "      <th>AirTime</th>\n",
       "      <th>ArrDelay</th>\n",
       "      <th>ArrTime</th>\n",
       "      <th>CRSArrTime</th>\n",
       "      <th>CRSDepTime</th>\n",
       "      <th>CRSElapsedTime</th>\n",
       "      <th>CancellationCode</th>\n",
       "      <th>Cancelled</th>\n",
       "      <th>CarrierDelay</th>\n",
       "      <th>...</th>\n",
       "      <th>Month</th>\n",
       "      <th>NASDelay</th>\n",
       "      <th>Origin</th>\n",
       "      <th>SecurityDelay</th>\n",
       "      <th>TailNum</th>\n",
       "      <th>TaxiIn</th>\n",
       "      <th>TaxiOut</th>\n",
       "      <th>UniqueCarrier</th>\n",
       "      <th>WeatherDelay</th>\n",
       "      <th>Year</th>\n",
       "    </tr>\n",
       "  </thead>\n",
       "  <tbody>\n",
       "    <tr>\n",
       "      <th>0</th>\n",
       "      <td>154.0</td>\n",
       "      <td>122.0</td>\n",
       "      <td>90.0</td>\n",
       "      <td>1850.0</td>\n",
       "      <td>1720</td>\n",
       "      <td>1455</td>\n",
       "      <td>145.0</td>\n",
       "      <td>NaN</td>\n",
       "      <td>0</td>\n",
       "      <td>0.0</td>\n",
       "      <td>...</td>\n",
       "      <td>6</td>\n",
       "      <td>23.0</td>\n",
       "      <td>ORD</td>\n",
       "      <td>0.0</td>\n",
       "      <td>N293AA</td>\n",
       "      <td>8.0</td>\n",
       "      <td>24.0</td>\n",
       "      <td>AA</td>\n",
       "      <td>0.0</td>\n",
       "      <td>2006</td>\n",
       "    </tr>\n",
       "    <tr>\n",
       "      <th>1</th>\n",
       "      <td>159.0</td>\n",
       "      <td>125.0</td>\n",
       "      <td>59.0</td>\n",
       "      <td>1703.0</td>\n",
       "      <td>1604</td>\n",
       "      <td>1510</td>\n",
       "      <td>114.0</td>\n",
       "      <td>NaN</td>\n",
       "      <td>0</td>\n",
       "      <td>NaN</td>\n",
       "      <td>...</td>\n",
       "      <td>9</td>\n",
       "      <td>NaN</td>\n",
       "      <td>DTW</td>\n",
       "      <td>NaN</td>\n",
       "      <td>N8921E</td>\n",
       "      <td>19.0</td>\n",
       "      <td>15.0</td>\n",
       "      <td>NW</td>\n",
       "      <td>NaN</td>\n",
       "      <td>1997</td>\n",
       "    </tr>\n",
       "    <tr>\n",
       "      <th>3</th>\n",
       "      <td>70.0</td>\n",
       "      <td>NaN</td>\n",
       "      <td>80.0</td>\n",
       "      <td>20.0</td>\n",
       "      <td>2300</td>\n",
       "      <td>2100</td>\n",
       "      <td>60.0</td>\n",
       "      <td>NaN</td>\n",
       "      <td>0</td>\n",
       "      <td>NaN</td>\n",
       "      <td>...</td>\n",
       "      <td>2</td>\n",
       "      <td>NaN</td>\n",
       "      <td>MDW</td>\n",
       "      <td>NaN</td>\n",
       "      <td>NaN</td>\n",
       "      <td>NaN</td>\n",
       "      <td>NaN</td>\n",
       "      <td>ML (1)</td>\n",
       "      <td>NaN</td>\n",
       "      <td>1991</td>\n",
       "    </tr>\n",
       "    <tr>\n",
       "      <th>4</th>\n",
       "      <td>150.0</td>\n",
       "      <td>135.0</td>\n",
       "      <td>5.0</td>\n",
       "      <td>2030.0</td>\n",
       "      <td>2025</td>\n",
       "      <td>1740</td>\n",
       "      <td>165.0</td>\n",
       "      <td>NaN</td>\n",
       "      <td>0</td>\n",
       "      <td>NaN</td>\n",
       "      <td>...</td>\n",
       "      <td>2</td>\n",
       "      <td>NaN</td>\n",
       "      <td>PHL</td>\n",
       "      <td>NaN</td>\n",
       "      <td>N512AU</td>\n",
       "      <td>3.0</td>\n",
       "      <td>12.0</td>\n",
       "      <td>US</td>\n",
       "      <td>NaN</td>\n",
       "      <td>1997</td>\n",
       "    </tr>\n",
       "    <tr>\n",
       "      <th>5</th>\n",
       "      <td>110.0</td>\n",
       "      <td>NaN</td>\n",
       "      <td>10.0</td>\n",
       "      <td>1450.0</td>\n",
       "      <td>1440</td>\n",
       "      <td>1300</td>\n",
       "      <td>100.0</td>\n",
       "      <td>NaN</td>\n",
       "      <td>0</td>\n",
       "      <td>NaN</td>\n",
       "      <td>...</td>\n",
       "      <td>2</td>\n",
       "      <td>NaN</td>\n",
       "      <td>BDL</td>\n",
       "      <td>NaN</td>\n",
       "      <td>NaN</td>\n",
       "      <td>NaN</td>\n",
       "      <td>NaN</td>\n",
       "      <td>CO</td>\n",
       "      <td>NaN</td>\n",
       "      <td>1989</td>\n",
       "    </tr>\n",
       "  </tbody>\n",
       "</table>\n",
       "<p>5 rows × 29 columns</p>\n",
       "</div>"
      ],
      "text/plain": [
       "   ActualElapsedTime  AirTime  ArrDelay  ArrTime  CRSArrTime  CRSDepTime  \\\n",
       "0              154.0    122.0      90.0   1850.0        1720        1455   \n",
       "1              159.0    125.0      59.0   1703.0        1604        1510   \n",
       "3               70.0      NaN      80.0     20.0        2300        2100   \n",
       "4              150.0    135.0       5.0   2030.0        2025        1740   \n",
       "5              110.0      NaN      10.0   1450.0        1440        1300   \n",
       "\n",
       "   CRSElapsedTime CancellationCode  Cancelled  CarrierDelay  ...  Month  \\\n",
       "0           145.0              NaN          0           0.0  ...      6   \n",
       "1           114.0              NaN          0           NaN  ...      9   \n",
       "3            60.0              NaN          0           NaN  ...      2   \n",
       "4           165.0              NaN          0           NaN  ...      2   \n",
       "5           100.0              NaN          0           NaN  ...      2   \n",
       "\n",
       "   NASDelay  Origin  SecurityDelay TailNum  TaxiIn  TaxiOut  UniqueCarrier  \\\n",
       "0      23.0     ORD            0.0  N293AA     8.0     24.0             AA   \n",
       "1       NaN     DTW            NaN  N8921E    19.0     15.0             NW   \n",
       "3       NaN     MDW            NaN     NaN     NaN      NaN         ML (1)   \n",
       "4       NaN     PHL            NaN  N512AU     3.0     12.0             US   \n",
       "5       NaN     BDL            NaN     NaN     NaN      NaN             CO   \n",
       "\n",
       "   WeatherDelay  Year  \n",
       "0           0.0  2006  \n",
       "1           NaN  1997  \n",
       "3           NaN  1991  \n",
       "4           NaN  1997  \n",
       "5           NaN  1989  \n",
       "\n",
       "[5 rows x 29 columns]"
      ]
     },
     "execution_count": 83,
     "metadata": {},
     "output_type": "execute_result"
    }
   ],
   "source": [
    "normal_flights = airline_df[airline_df['Cancelled'] == 0]\n",
    "normal_flights.head()"
   ]
  },
  {
   "cell_type": "code",
   "execution_count": 84,
   "metadata": {},
   "outputs": [
    {
     "data": {
      "text/plain": [
       "2684691"
      ]
     },
     "execution_count": 84,
     "metadata": {},
     "output_type": "execute_result"
    }
   ],
   "source": [
    "\"\"\" \n",
    "['ActualElapsedTime', 'AirTime', 'ArrDelay', 'ArrTime', 'CRSArrTime',\n",
    "       'CRSDepTime', 'CRSElapsedTime', 'CancellationCode', 'Cancelled',\n",
    "       'CarrierDelay', 'DayOfWeek', 'DayofMonth', 'DepDelay', 'DepTime',\n",
    "       'Dest', 'Distance', 'Diverted', 'FlightNum', 'LateAircraftDelay',\n",
    "       'Month', 'NASDelay', 'Origin', 'SecurityDelay', 'TailNum', 'TaxiIn',\n",
    "       'TaxiOut', 'UniqueCarrier', 'WeatherDelay', 'Year']\n",
    "\"\"\"\n",
    "\n",
    "normal_flights = normal_flights.drop([\n",
    "    \"CancellationCode\",\n",
    "    \"Cancelled\"\n",
    "], axis=1)\n",
    "\n",
    "normal_flights.to_csv(\"../dataset/flights_without_cancellation_data.csv\")"
   ]
  },
  {
   "cell_type": "code",
   "execution_count": 85,
   "metadata": {},
   "outputs": [
    {
     "data": {
      "text/html": [
       "<div>\n",
       "<style scoped>\n",
       "    .dataframe tbody tr th:only-of-type {\n",
       "        vertical-align: middle;\n",
       "    }\n",
       "\n",
       "    .dataframe tbody tr th {\n",
       "        vertical-align: top;\n",
       "    }\n",
       "\n",
       "    .dataframe thead th {\n",
       "        text-align: right;\n",
       "    }\n",
       "</style>\n",
       "<table border=\"1\" class=\"dataframe\">\n",
       "  <thead>\n",
       "    <tr style=\"text-align: right;\">\n",
       "      <th></th>\n",
       "      <th>ActualElapsedTime</th>\n",
       "      <th>AirTime</th>\n",
       "      <th>ArrDelay</th>\n",
       "      <th>ArrTime</th>\n",
       "      <th>CRSArrTime</th>\n",
       "      <th>CRSDepTime</th>\n",
       "      <th>CRSElapsedTime</th>\n",
       "      <th>CarrierDelay</th>\n",
       "      <th>DayOfWeek</th>\n",
       "      <th>DayofMonth</th>\n",
       "      <th>...</th>\n",
       "      <th>Month</th>\n",
       "      <th>NASDelay</th>\n",
       "      <th>Origin</th>\n",
       "      <th>SecurityDelay</th>\n",
       "      <th>TailNum</th>\n",
       "      <th>TaxiIn</th>\n",
       "      <th>TaxiOut</th>\n",
       "      <th>UniqueCarrier</th>\n",
       "      <th>WeatherDelay</th>\n",
       "      <th>Year</th>\n",
       "    </tr>\n",
       "  </thead>\n",
       "  <tbody>\n",
       "    <tr>\n",
       "      <th>0</th>\n",
       "      <td>154.0</td>\n",
       "      <td>122.0</td>\n",
       "      <td>90.0</td>\n",
       "      <td>1850.0</td>\n",
       "      <td>1720</td>\n",
       "      <td>1455</td>\n",
       "      <td>145.0</td>\n",
       "      <td>0.0</td>\n",
       "      <td>3</td>\n",
       "      <td>21</td>\n",
       "      <td>...</td>\n",
       "      <td>6</td>\n",
       "      <td>23.0</td>\n",
       "      <td>ORD</td>\n",
       "      <td>0.0</td>\n",
       "      <td>N293AA</td>\n",
       "      <td>8.0</td>\n",
       "      <td>24.0</td>\n",
       "      <td>AA</td>\n",
       "      <td>0.0</td>\n",
       "      <td>2006</td>\n",
       "    </tr>\n",
       "    <tr>\n",
       "      <th>1</th>\n",
       "      <td>159.0</td>\n",
       "      <td>125.0</td>\n",
       "      <td>59.0</td>\n",
       "      <td>1703.0</td>\n",
       "      <td>1604</td>\n",
       "      <td>1510</td>\n",
       "      <td>114.0</td>\n",
       "      <td>NaN</td>\n",
       "      <td>2</td>\n",
       "      <td>16</td>\n",
       "      <td>...</td>\n",
       "      <td>9</td>\n",
       "      <td>NaN</td>\n",
       "      <td>DTW</td>\n",
       "      <td>NaN</td>\n",
       "      <td>N8921E</td>\n",
       "      <td>19.0</td>\n",
       "      <td>15.0</td>\n",
       "      <td>NW</td>\n",
       "      <td>NaN</td>\n",
       "      <td>1997</td>\n",
       "    </tr>\n",
       "    <tr>\n",
       "      <th>3</th>\n",
       "      <td>70.0</td>\n",
       "      <td>NaN</td>\n",
       "      <td>80.0</td>\n",
       "      <td>20.0</td>\n",
       "      <td>2300</td>\n",
       "      <td>2100</td>\n",
       "      <td>60.0</td>\n",
       "      <td>NaN</td>\n",
       "      <td>2</td>\n",
       "      <td>5</td>\n",
       "      <td>...</td>\n",
       "      <td>2</td>\n",
       "      <td>NaN</td>\n",
       "      <td>MDW</td>\n",
       "      <td>NaN</td>\n",
       "      <td>NaN</td>\n",
       "      <td>NaN</td>\n",
       "      <td>NaN</td>\n",
       "      <td>ML (1)</td>\n",
       "      <td>NaN</td>\n",
       "      <td>1991</td>\n",
       "    </tr>\n",
       "    <tr>\n",
       "      <th>4</th>\n",
       "      <td>150.0</td>\n",
       "      <td>135.0</td>\n",
       "      <td>5.0</td>\n",
       "      <td>2030.0</td>\n",
       "      <td>2025</td>\n",
       "      <td>1740</td>\n",
       "      <td>165.0</td>\n",
       "      <td>NaN</td>\n",
       "      <td>6</td>\n",
       "      <td>1</td>\n",
       "      <td>...</td>\n",
       "      <td>2</td>\n",
       "      <td>NaN</td>\n",
       "      <td>PHL</td>\n",
       "      <td>NaN</td>\n",
       "      <td>N512AU</td>\n",
       "      <td>3.0</td>\n",
       "      <td>12.0</td>\n",
       "      <td>US</td>\n",
       "      <td>NaN</td>\n",
       "      <td>1997</td>\n",
       "    </tr>\n",
       "    <tr>\n",
       "      <th>5</th>\n",
       "      <td>110.0</td>\n",
       "      <td>NaN</td>\n",
       "      <td>10.0</td>\n",
       "      <td>1450.0</td>\n",
       "      <td>1440</td>\n",
       "      <td>1300</td>\n",
       "      <td>100.0</td>\n",
       "      <td>NaN</td>\n",
       "      <td>2</td>\n",
       "      <td>21</td>\n",
       "      <td>...</td>\n",
       "      <td>2</td>\n",
       "      <td>NaN</td>\n",
       "      <td>BDL</td>\n",
       "      <td>NaN</td>\n",
       "      <td>NaN</td>\n",
       "      <td>NaN</td>\n",
       "      <td>NaN</td>\n",
       "      <td>CO</td>\n",
       "      <td>NaN</td>\n",
       "      <td>1989</td>\n",
       "    </tr>\n",
       "  </tbody>\n",
       "</table>\n",
       "<p>5 rows × 27 columns</p>\n",
       "</div>"
      ],
      "text/plain": [
       "   ActualElapsedTime  AirTime  ArrDelay  ArrTime  CRSArrTime  CRSDepTime  \\\n",
       "0              154.0    122.0      90.0   1850.0        1720        1455   \n",
       "1              159.0    125.0      59.0   1703.0        1604        1510   \n",
       "3               70.0      NaN      80.0     20.0        2300        2100   \n",
       "4              150.0    135.0       5.0   2030.0        2025        1740   \n",
       "5              110.0      NaN      10.0   1450.0        1440        1300   \n",
       "\n",
       "   CRSElapsedTime  CarrierDelay  DayOfWeek  DayofMonth  ...  Month  NASDelay  \\\n",
       "0           145.0           0.0          3          21  ...      6      23.0   \n",
       "1           114.0           NaN          2          16  ...      9       NaN   \n",
       "3            60.0           NaN          2           5  ...      2       NaN   \n",
       "4           165.0           NaN          6           1  ...      2       NaN   \n",
       "5           100.0           NaN          2          21  ...      2       NaN   \n",
       "\n",
       "  Origin  SecurityDelay  TailNum  TaxiIn  TaxiOut  UniqueCarrier  \\\n",
       "0    ORD            0.0   N293AA     8.0     24.0             AA   \n",
       "1    DTW            NaN   N8921E    19.0     15.0             NW   \n",
       "3    MDW            NaN      NaN     NaN      NaN         ML (1)   \n",
       "4    PHL            NaN   N512AU     3.0     12.0             US   \n",
       "5    BDL            NaN      NaN     NaN      NaN             CO   \n",
       "\n",
       "   WeatherDelay  Year  \n",
       "0           0.0  2006  \n",
       "1           NaN  1997  \n",
       "3           NaN  1991  \n",
       "4           NaN  1997  \n",
       "5           NaN  1989  \n",
       "\n",
       "[5 rows x 27 columns]"
      ]
     },
     "execution_count": 85,
     "metadata": {},
     "output_type": "execute_result"
    }
   ],
   "source": [
    "normal_flights.head()"
   ]
  },
  {
   "cell_type": "code",
   "execution_count": 86,
   "metadata": {},
   "outputs": [
    {
     "data": {
      "text/plain": [
       "(9698787, 27)"
      ]
     },
     "execution_count": 86,
     "metadata": {},
     "output_type": "execute_result"
    }
   ],
   "source": [
    "normal_flights.shape"
   ]
  },
  {
   "cell_type": "markdown",
   "metadata": {},
   "source": [
    "### Things to take note:\n",
    "1. ArrDelay = ActualElapsedTime - CSRElapsedTime + DepDelay (Actual Flight Time - Scheduled Flight Time + Delays during departure)\n",
    "2. ArrDelay = CarrierDelay + LateAircraftDelay + NASDelay + SecurityDelay + WeatherDelay\n",
    "3. ArrDelay = ArrDelay - CSRArrTime\n",
    "\n",
    "Factors resulting in arrival delay:\n",
    "- carrier delay\n",
    "- late aircraft delay\n",
    "- nas delay\n",
    "- security delay\n",
    "- weather delay"
   ]
  },
  {
   "cell_type": "code",
   "execution_count": 87,
   "metadata": {},
   "outputs": [
    {
     "data": {
      "text/plain": [
       "(2690088, 27)"
      ]
     },
     "execution_count": 87,
     "metadata": {},
     "output_type": "execute_result"
    }
   ],
   "source": [
    "normal_flights_with_no_missing_values = normal_flights.dropna(subset=[\"CarrierDelay\", \"WeatherDelay\", \"NASDelay\", \"SecurityDelay\", \"LateAircraftDelay\"])\n",
    "normal_flights_with_no_missing_values.shape"
   ]
  },
  {
   "cell_type": "code",
   "execution_count": 88,
   "metadata": {},
   "outputs": [
    {
     "name": "stdout",
     "output_type": "stream",
     "text": [
      "Percentage of flights without delay information: 72.26%\n"
     ]
    }
   ],
   "source": [
    "print (f\"Percentage of flights without delay information: {round((1 - normal_flights_with_no_missing_values.shape[0] / normal_flights.shape[0]) * 100, 2)}%\")"
   ]
  },
  {
   "cell_type": "code",
   "execution_count": 89,
   "metadata": {},
   "outputs": [
    {
     "name": "stdout",
     "output_type": "stream",
     "text": [
      "Percentage of flights with delay information: 27.74%\n"
     ]
    }
   ],
   "source": [
    "print (f\"Percentage of flights with delay information: {round(normal_flights_with_no_missing_values.shape[0] / normal_flights.shape[0] * 100, 2)}%\")"
   ]
  },
  {
   "cell_type": "markdown",
   "metadata": {},
   "source": [
    "### Seeing distribution of delay times for each factor"
   ]
  },
  {
   "cell_type": "code",
   "execution_count": 90,
   "metadata": {},
   "outputs": [],
   "source": [
    "delay_factors = [\"CarrierDelay\", \"WeatherDelay\", \"NASDelay\", \"SecurityDelay\", \"LateAircraftDelay\"]"
   ]
  },
  {
   "cell_type": "code",
   "execution_count": 91,
   "metadata": {},
   "outputs": [],
   "source": [
    "melted_flights = pd.melt(normal_flights_with_no_missing_values, id_vars=[\"ArrDelay\"], value_vars=delay_factors, var_name=\"DelayType\", value_name=\"DelayDuration\")"
   ]
  },
  {
   "cell_type": "code",
   "execution_count": 92,
   "metadata": {},
   "outputs": [
    {
     "data": {
      "image/png": "[encoded data removed]",
      "text/plain": [
       "<Figure size 1000x600 with 1 Axes>"
      ]
     },
     "metadata": {},
     "output_type": "display_data"
    }
   ],
   "source": [
    "plt.figure(figsize=(10, 6))\n",
    "sns.boxplot(data=melted_flights, x=\"DelayType\", y=\"DelayDuration\")\n",
    "plt.title(\"Distribution of factors resulting in arrival flight delays\")\n",
    "plt.show()"
   ]
  },
  {
   "cell_type": "code",
   "execution_count": 93,
   "metadata": {},
   "outputs": [
    {
     "data": {
      "text/plain": [
       "count    9.676146e+06\n",
       "mean     7.050883e+00\n",
       "std      3.074553e+01\n",
       "min     -1.252000e+03\n",
       "25%     -7.000000e+00\n",
       "50%      0.000000e+00\n",
       "75%      1.100000e+01\n",
       "max      1.622000e+03\n",
       "Name: ArrDelay, dtype: float64"
      ]
     },
     "execution_count": 93,
     "metadata": {},
     "output_type": "execute_result"
    }
   ],
   "source": [
    "average_arrival_delay_per_carrier = normal_flights_with_no_missing_values.groupby(\"UniqueCarrier\")[\"ArrDelay\"].mean()"
   ]
  }
 ],
 "metadata": {
  "kernelspec": {
   "display_name": "Python 3",
   "language": "python",
   "name": "python3"
  },
  "language_info": {
   "codemirror_mode": {
    "name": "ipython",
    "version": 3
   },
   "file_extension": ".py",
   "mimetype": "text/x-python",
   "name": "python",
   "nbconvert_exporter": "python",
   "pygments_lexer": "ipython3",
   "version": "3.11.4"
  }
 },
 "nbformat": 4,
 "nbformat_minor": 2
}
