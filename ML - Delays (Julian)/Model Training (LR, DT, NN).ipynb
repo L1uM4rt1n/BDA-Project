{
 "cells": [
  {
   "cell_type": "markdown",
   "id": "ef3e787c",
   "metadata": {},
   "source": [
    "# Imports"
   ]
  },
  {
   "cell_type": "code",
   "execution_count": 1,
   "id": "d70efd44",
   "metadata": {},
   "outputs": [],
   "source": [
    "import pandas as pd\n",
    "import json\n",
    "import numpy as np\n",
    "\n",
    "from sklearn.model_selection import train_test_split\n",
    "from sklearn.preprocessing import StandardScaler\n",
    "from sklearn.metrics import *\n",
    "from sklearn.linear_model import LinearRegression\n",
    "from sklearn.tree import DecisionTreeRegressor\n",
    "\n",
    "import tensorflow as tf\n",
    "from tensorflow.keras.models import Sequential\n",
    "from tensorflow.keras.layers import Dense"
   ]
  },
  {
   "cell_type": "markdown",
   "id": "4aa0855e",
   "metadata": {},
   "source": [
    "# Load Data"
   ]
  },
  {
   "cell_type": "code",
   "execution_count": 2,
   "id": "705066ca",
   "metadata": {},
   "outputs": [],
   "source": [
    "df = pd.read_csv('delayed flights with region and weather.csv').drop(columns=['Unnamed: 0'])"
   ]
  },
  {
   "cell_type": "code",
   "execution_count": 3,
   "id": "765a1d8b",
   "metadata": {},
   "outputs": [],
   "source": [
    "# df.drop(columns=['Unnamed: 0'], inplace=True)"
   ]
  },
  {
   "cell_type": "code",
   "execution_count": 4,
   "id": "1ce137ca",
   "metadata": {},
   "outputs": [
    {
     "data": {
      "text/plain": [
       "(2681780, 21)"
      ]
     },
     "execution_count": 4,
     "metadata": {},
     "output_type": "execute_result"
    }
   ],
   "source": [
    "df.shape"
   ]
  },
  {
   "cell_type": "code",
   "execution_count": 5,
   "id": "f12a409c",
   "metadata": {},
   "outputs": [
    {
     "data": {
      "text/html": [
       "<div>\n",
       "<style scoped>\n",
       "    .dataframe tbody tr th:only-of-type {\n",
       "        vertical-align: middle;\n",
       "    }\n",
       "\n",
       "    .dataframe tbody tr th {\n",
       "        vertical-align: top;\n",
       "    }\n",
       "\n",
       "    .dataframe thead th {\n",
       "        text-align: right;\n",
       "    }\n",
       "</style>\n",
       "<table border=\"1\" class=\"dataframe\">\n",
       "  <thead>\n",
       "    <tr style=\"text-align: right;\">\n",
       "      <th></th>\n",
       "      <th>CRSDepTime</th>\n",
       "      <th>DayOfMonthDep</th>\n",
       "      <th>DepDelay</th>\n",
       "      <th>Distance</th>\n",
       "      <th>MonthDep</th>\n",
       "      <th>Origin</th>\n",
       "      <th>TaxiOut</th>\n",
       "      <th>YearDep</th>\n",
       "      <th>DayOfMonthArr</th>\n",
       "      <th>CRSDayOfMonthDep</th>\n",
       "      <th>...</th>\n",
       "      <th>CRSYearDep</th>\n",
       "      <th>CRSDepDateTime</th>\n",
       "      <th>Lat</th>\n",
       "      <th>Long</th>\n",
       "      <th>Region</th>\n",
       "      <th>weather_code</th>\n",
       "      <th>precipitation_hours</th>\n",
       "      <th>snowfall_sum</th>\n",
       "      <th>wind_speed</th>\n",
       "      <th>WeatherCategory</th>\n",
       "    </tr>\n",
       "  </thead>\n",
       "  <tbody>\n",
       "    <tr>\n",
       "      <th>0</th>\n",
       "      <td>1455</td>\n",
       "      <td>21</td>\n",
       "      <td>81.0</td>\n",
       "      <td>802.0</td>\n",
       "      <td>6</td>\n",
       "      <td>ORD</td>\n",
       "      <td>24.0</td>\n",
       "      <td>2006</td>\n",
       "      <td>21</td>\n",
       "      <td>21</td>\n",
       "      <td>...</td>\n",
       "      <td>2006</td>\n",
       "      <td>2006-06-21 14:55:00</td>\n",
       "      <td>41.978600</td>\n",
       "      <td>-87.904800</td>\n",
       "      <td>Illinois</td>\n",
       "      <td>55</td>\n",
       "      <td>5.0</td>\n",
       "      <td>0.0</td>\n",
       "      <td>25.2</td>\n",
       "      <td>safe_codes</td>\n",
       "    </tr>\n",
       "    <tr>\n",
       "      <th>1</th>\n",
       "      <td>750</td>\n",
       "      <td>8</td>\n",
       "      <td>0.0</td>\n",
       "      <td>2288.0</td>\n",
       "      <td>5</td>\n",
       "      <td>LAX</td>\n",
       "      <td>13.0</td>\n",
       "      <td>2007</td>\n",
       "      <td>8</td>\n",
       "      <td>8</td>\n",
       "      <td>...</td>\n",
       "      <td>2007</td>\n",
       "      <td>2007-05-08 07:50:00</td>\n",
       "      <td>33.942501</td>\n",
       "      <td>-118.407997</td>\n",
       "      <td>California</td>\n",
       "      <td>0</td>\n",
       "      <td>0.0</td>\n",
       "      <td>0.0</td>\n",
       "      <td>27.4</td>\n",
       "      <td>safe_codes</td>\n",
       "    </tr>\n",
       "    <tr>\n",
       "      <th>2</th>\n",
       "      <td>715</td>\n",
       "      <td>16</td>\n",
       "      <td>-7.0</td>\n",
       "      <td>677.0</td>\n",
       "      <td>3</td>\n",
       "      <td>HOU</td>\n",
       "      <td>6.0</td>\n",
       "      <td>2007</td>\n",
       "      <td>16</td>\n",
       "      <td>16</td>\n",
       "      <td>...</td>\n",
       "      <td>2007</td>\n",
       "      <td>2007-03-16 07:15:00</td>\n",
       "      <td>29.645399</td>\n",
       "      <td>-95.278900</td>\n",
       "      <td>Texas</td>\n",
       "      <td>2</td>\n",
       "      <td>0.0</td>\n",
       "      <td>0.0</td>\n",
       "      <td>23.3</td>\n",
       "      <td>safe_codes</td>\n",
       "    </tr>\n",
       "  </tbody>\n",
       "</table>\n",
       "<p>3 rows × 21 columns</p>\n",
       "</div>"
      ],
      "text/plain": [
       "   CRSDepTime  DayOfMonthDep  DepDelay  Distance  MonthDep Origin  TaxiOut  \\\n",
       "0        1455             21      81.0     802.0         6    ORD     24.0   \n",
       "1         750              8       0.0    2288.0         5    LAX     13.0   \n",
       "2         715             16      -7.0     677.0         3    HOU      6.0   \n",
       "\n",
       "   YearDep  DayOfMonthArr  CRSDayOfMonthDep  ...  CRSYearDep  \\\n",
       "0     2006             21                21  ...        2006   \n",
       "1     2007              8                 8  ...        2007   \n",
       "2     2007             16                16  ...        2007   \n",
       "\n",
       "        CRSDepDateTime        Lat        Long      Region weather_code  \\\n",
       "0  2006-06-21 14:55:00  41.978600  -87.904800    Illinois           55   \n",
       "1  2007-05-08 07:50:00  33.942501 -118.407997  California            0   \n",
       "2  2007-03-16 07:15:00  29.645399  -95.278900       Texas            2   \n",
       "\n",
       "   precipitation_hours  snowfall_sum  wind_speed  WeatherCategory  \n",
       "0                  5.0           0.0        25.2       safe_codes  \n",
       "1                  0.0           0.0        27.4       safe_codes  \n",
       "2                  0.0           0.0        23.3       safe_codes  \n",
       "\n",
       "[3 rows x 21 columns]"
      ]
     },
     "execution_count": 5,
     "metadata": {},
     "output_type": "execute_result"
    }
   ],
   "source": [
    "df.head(3)"
   ]
  },
  {
   "cell_type": "code",
   "execution_count": 6,
   "id": "a0dbdcaf",
   "metadata": {},
   "outputs": [],
   "source": [
    "df_cleaned = df.drop(columns=[\n",
    "    'CRSDepTime',\n",
    "    'DayOfMonthArr',\n",
    "    'DayOfMonthDep',\n",
    "    'MonthDep',\n",
    "    'YearDep',\n",
    "    'CRSDayOfMonthDep',\n",
    "    'CRSDepDateTime',\n",
    "    'Lat',\n",
    "    'Long',\n",
    "    'weather_code'\n",
    "])"
   ]
  },
  {
   "cell_type": "code",
   "execution_count": 7,
   "id": "981a004f",
   "metadata": {},
   "outputs": [
    {
     "data": {
      "text/html": [
       "<div>\n",
       "<style scoped>\n",
       "    .dataframe tbody tr th:only-of-type {\n",
       "        vertical-align: middle;\n",
       "    }\n",
       "\n",
       "    .dataframe tbody tr th {\n",
       "        vertical-align: top;\n",
       "    }\n",
       "\n",
       "    .dataframe thead th {\n",
       "        text-align: right;\n",
       "    }\n",
       "</style>\n",
       "<table border=\"1\" class=\"dataframe\">\n",
       "  <thead>\n",
       "    <tr style=\"text-align: right;\">\n",
       "      <th></th>\n",
       "      <th>DepDelay</th>\n",
       "      <th>Distance</th>\n",
       "      <th>Origin</th>\n",
       "      <th>TaxiOut</th>\n",
       "      <th>CRSMonthDep</th>\n",
       "      <th>CRSYearDep</th>\n",
       "      <th>Region</th>\n",
       "      <th>precipitation_hours</th>\n",
       "      <th>snowfall_sum</th>\n",
       "      <th>wind_speed</th>\n",
       "      <th>WeatherCategory</th>\n",
       "    </tr>\n",
       "  </thead>\n",
       "  <tbody>\n",
       "    <tr>\n",
       "      <th>0</th>\n",
       "      <td>81.0</td>\n",
       "      <td>802.0</td>\n",
       "      <td>ORD</td>\n",
       "      <td>24.0</td>\n",
       "      <td>6</td>\n",
       "      <td>2006</td>\n",
       "      <td>Illinois</td>\n",
       "      <td>5.0</td>\n",
       "      <td>0.0</td>\n",
       "      <td>25.2</td>\n",
       "      <td>safe_codes</td>\n",
       "    </tr>\n",
       "    <tr>\n",
       "      <th>1</th>\n",
       "      <td>0.0</td>\n",
       "      <td>2288.0</td>\n",
       "      <td>LAX</td>\n",
       "      <td>13.0</td>\n",
       "      <td>5</td>\n",
       "      <td>2007</td>\n",
       "      <td>California</td>\n",
       "      <td>0.0</td>\n",
       "      <td>0.0</td>\n",
       "      <td>27.4</td>\n",
       "      <td>safe_codes</td>\n",
       "    </tr>\n",
       "    <tr>\n",
       "      <th>2</th>\n",
       "      <td>-7.0</td>\n",
       "      <td>677.0</td>\n",
       "      <td>HOU</td>\n",
       "      <td>6.0</td>\n",
       "      <td>3</td>\n",
       "      <td>2007</td>\n",
       "      <td>Texas</td>\n",
       "      <td>0.0</td>\n",
       "      <td>0.0</td>\n",
       "      <td>23.3</td>\n",
       "      <td>safe_codes</td>\n",
       "    </tr>\n",
       "  </tbody>\n",
       "</table>\n",
       "</div>"
      ],
      "text/plain": [
       "   DepDelay  Distance Origin  TaxiOut  CRSMonthDep  CRSYearDep      Region  \\\n",
       "0      81.0     802.0    ORD     24.0            6        2006    Illinois   \n",
       "1       0.0    2288.0    LAX     13.0            5        2007  California   \n",
       "2      -7.0     677.0    HOU      6.0            3        2007       Texas   \n",
       "\n",
       "   precipitation_hours  snowfall_sum  wind_speed WeatherCategory  \n",
       "0                  5.0           0.0        25.2      safe_codes  \n",
       "1                  0.0           0.0        27.4      safe_codes  \n",
       "2                  0.0           0.0        23.3      safe_codes  "
      ]
     },
     "execution_count": 7,
     "metadata": {},
     "output_type": "execute_result"
    }
   ],
   "source": [
    "df_cleaned.head(3)"
   ]
  },
  {
   "cell_type": "markdown",
   "id": "a7c4eb55",
   "metadata": {},
   "source": [
    "# Data Processing"
   ]
  },
  {
   "cell_type": "markdown",
   "id": "cfdb4cf5",
   "metadata": {},
   "source": [
    "## Encoding"
   ]
  },
  {
   "cell_type": "code",
   "execution_count": 8,
   "id": "a0adc764",
   "metadata": {},
   "outputs": [],
   "source": [
    "df_cleaned['CRSMonthDep'] = df_cleaned['CRSMonthDep'].astype(str)\n",
    "\n",
    "df_cleaned['CRSYearDep'] = df_cleaned['CRSYearDep'].astype(str)"
   ]
  },
  {
   "cell_type": "code",
   "execution_count": 9,
   "id": "b6e72ce6",
   "metadata": {
    "scrolled": true
   },
   "outputs": [
    {
     "data": {
      "text/html": [
       "<div>\n",
       "<style scoped>\n",
       "    .dataframe tbody tr th:only-of-type {\n",
       "        vertical-align: middle;\n",
       "    }\n",
       "\n",
       "    .dataframe tbody tr th {\n",
       "        vertical-align: top;\n",
       "    }\n",
       "\n",
       "    .dataframe thead th {\n",
       "        text-align: right;\n",
       "    }\n",
       "</style>\n",
       "<table border=\"1\" class=\"dataframe\">\n",
       "  <thead>\n",
       "    <tr style=\"text-align: right;\">\n",
       "      <th></th>\n",
       "      <th>DepDelay</th>\n",
       "      <th>Distance</th>\n",
       "      <th>TaxiOut</th>\n",
       "      <th>precipitation_hours</th>\n",
       "      <th>snowfall_sum</th>\n",
       "      <th>wind_speed</th>\n",
       "      <th>Origin_ABE</th>\n",
       "      <th>Origin_ABI</th>\n",
       "      <th>Origin_ABQ</th>\n",
       "      <th>Origin_ABY</th>\n",
       "      <th>...</th>\n",
       "      <th>CRSMonthDep_8</th>\n",
       "      <th>CRSMonthDep_9</th>\n",
       "      <th>CRSYearDep_2003</th>\n",
       "      <th>CRSYearDep_2004</th>\n",
       "      <th>CRSYearDep_2005</th>\n",
       "      <th>CRSYearDep_2006</th>\n",
       "      <th>CRSYearDep_2007</th>\n",
       "      <th>CRSYearDep_2008</th>\n",
       "      <th>WeatherCategory_dangerous_codes</th>\n",
       "      <th>WeatherCategory_safe_codes</th>\n",
       "    </tr>\n",
       "  </thead>\n",
       "  <tbody>\n",
       "    <tr>\n",
       "      <th>0</th>\n",
       "      <td>81.0</td>\n",
       "      <td>802.0</td>\n",
       "      <td>24.0</td>\n",
       "      <td>5.0</td>\n",
       "      <td>0.0</td>\n",
       "      <td>25.2</td>\n",
       "      <td>False</td>\n",
       "      <td>False</td>\n",
       "      <td>False</td>\n",
       "      <td>False</td>\n",
       "      <td>...</td>\n",
       "      <td>False</td>\n",
       "      <td>False</td>\n",
       "      <td>False</td>\n",
       "      <td>False</td>\n",
       "      <td>False</td>\n",
       "      <td>True</td>\n",
       "      <td>False</td>\n",
       "      <td>False</td>\n",
       "      <td>False</td>\n",
       "      <td>True</td>\n",
       "    </tr>\n",
       "    <tr>\n",
       "      <th>1</th>\n",
       "      <td>0.0</td>\n",
       "      <td>2288.0</td>\n",
       "      <td>13.0</td>\n",
       "      <td>0.0</td>\n",
       "      <td>0.0</td>\n",
       "      <td>27.4</td>\n",
       "      <td>False</td>\n",
       "      <td>False</td>\n",
       "      <td>False</td>\n",
       "      <td>False</td>\n",
       "      <td>...</td>\n",
       "      <td>False</td>\n",
       "      <td>False</td>\n",
       "      <td>False</td>\n",
       "      <td>False</td>\n",
       "      <td>False</td>\n",
       "      <td>False</td>\n",
       "      <td>True</td>\n",
       "      <td>False</td>\n",
       "      <td>False</td>\n",
       "      <td>True</td>\n",
       "    </tr>\n",
       "    <tr>\n",
       "      <th>2</th>\n",
       "      <td>-7.0</td>\n",
       "      <td>677.0</td>\n",
       "      <td>6.0</td>\n",
       "      <td>0.0</td>\n",
       "      <td>0.0</td>\n",
       "      <td>23.3</td>\n",
       "      <td>False</td>\n",
       "      <td>False</td>\n",
       "      <td>False</td>\n",
       "      <td>False</td>\n",
       "      <td>...</td>\n",
       "      <td>False</td>\n",
       "      <td>False</td>\n",
       "      <td>False</td>\n",
       "      <td>False</td>\n",
       "      <td>False</td>\n",
       "      <td>False</td>\n",
       "      <td>True</td>\n",
       "      <td>False</td>\n",
       "      <td>False</td>\n",
       "      <td>True</td>\n",
       "    </tr>\n",
       "    <tr>\n",
       "      <th>3</th>\n",
       "      <td>-1.0</td>\n",
       "      <td>872.0</td>\n",
       "      <td>11.0</td>\n",
       "      <td>0.0</td>\n",
       "      <td>0.0</td>\n",
       "      <td>20.1</td>\n",
       "      <td>False</td>\n",
       "      <td>False</td>\n",
       "      <td>False</td>\n",
       "      <td>False</td>\n",
       "      <td>...</td>\n",
       "      <td>False</td>\n",
       "      <td>False</td>\n",
       "      <td>False</td>\n",
       "      <td>False</td>\n",
       "      <td>False</td>\n",
       "      <td>True</td>\n",
       "      <td>False</td>\n",
       "      <td>False</td>\n",
       "      <td>False</td>\n",
       "      <td>True</td>\n",
       "    </tr>\n",
       "    <tr>\n",
       "      <th>4</th>\n",
       "      <td>-4.0</td>\n",
       "      <td>745.0</td>\n",
       "      <td>10.0</td>\n",
       "      <td>2.0</td>\n",
       "      <td>0.0</td>\n",
       "      <td>10.8</td>\n",
       "      <td>False</td>\n",
       "      <td>False</td>\n",
       "      <td>False</td>\n",
       "      <td>False</td>\n",
       "      <td>...</td>\n",
       "      <td>True</td>\n",
       "      <td>False</td>\n",
       "      <td>False</td>\n",
       "      <td>True</td>\n",
       "      <td>False</td>\n",
       "      <td>False</td>\n",
       "      <td>False</td>\n",
       "      <td>False</td>\n",
       "      <td>False</td>\n",
       "      <td>True</td>\n",
       "    </tr>\n",
       "    <tr>\n",
       "      <th>...</th>\n",
       "      <td>...</td>\n",
       "      <td>...</td>\n",
       "      <td>...</td>\n",
       "      <td>...</td>\n",
       "      <td>...</td>\n",
       "      <td>...</td>\n",
       "      <td>...</td>\n",
       "      <td>...</td>\n",
       "      <td>...</td>\n",
       "      <td>...</td>\n",
       "      <td>...</td>\n",
       "      <td>...</td>\n",
       "      <td>...</td>\n",
       "      <td>...</td>\n",
       "      <td>...</td>\n",
       "      <td>...</td>\n",
       "      <td>...</td>\n",
       "      <td>...</td>\n",
       "      <td>...</td>\n",
       "      <td>...</td>\n",
       "      <td>...</td>\n",
       "    </tr>\n",
       "    <tr>\n",
       "      <th>2681775</th>\n",
       "      <td>7.0</td>\n",
       "      <td>717.0</td>\n",
       "      <td>13.0</td>\n",
       "      <td>7.0</td>\n",
       "      <td>0.0</td>\n",
       "      <td>19.9</td>\n",
       "      <td>False</td>\n",
       "      <td>False</td>\n",
       "      <td>False</td>\n",
       "      <td>False</td>\n",
       "      <td>...</td>\n",
       "      <td>False</td>\n",
       "      <td>False</td>\n",
       "      <td>False</td>\n",
       "      <td>False</td>\n",
       "      <td>False</td>\n",
       "      <td>True</td>\n",
       "      <td>False</td>\n",
       "      <td>False</td>\n",
       "      <td>False</td>\n",
       "      <td>True</td>\n",
       "    </tr>\n",
       "    <tr>\n",
       "      <th>2681776</th>\n",
       "      <td>8.0</td>\n",
       "      <td>1587.0</td>\n",
       "      <td>13.0</td>\n",
       "      <td>0.0</td>\n",
       "      <td>0.0</td>\n",
       "      <td>24.0</td>\n",
       "      <td>False</td>\n",
       "      <td>False</td>\n",
       "      <td>False</td>\n",
       "      <td>False</td>\n",
       "      <td>...</td>\n",
       "      <td>False</td>\n",
       "      <td>False</td>\n",
       "      <td>False</td>\n",
       "      <td>False</td>\n",
       "      <td>False</td>\n",
       "      <td>False</td>\n",
       "      <td>True</td>\n",
       "      <td>False</td>\n",
       "      <td>False</td>\n",
       "      <td>True</td>\n",
       "    </tr>\n",
       "    <tr>\n",
       "      <th>2681777</th>\n",
       "      <td>-4.0</td>\n",
       "      <td>1235.0</td>\n",
       "      <td>10.0</td>\n",
       "      <td>23.0</td>\n",
       "      <td>0.0</td>\n",
       "      <td>12.5</td>\n",
       "      <td>False</td>\n",
       "      <td>False</td>\n",
       "      <td>False</td>\n",
       "      <td>False</td>\n",
       "      <td>...</td>\n",
       "      <td>False</td>\n",
       "      <td>False</td>\n",
       "      <td>False</td>\n",
       "      <td>True</td>\n",
       "      <td>False</td>\n",
       "      <td>False</td>\n",
       "      <td>False</td>\n",
       "      <td>False</td>\n",
       "      <td>False</td>\n",
       "      <td>True</td>\n",
       "    </tr>\n",
       "    <tr>\n",
       "      <th>2681778</th>\n",
       "      <td>-7.0</td>\n",
       "      <td>804.0</td>\n",
       "      <td>10.0</td>\n",
       "      <td>0.0</td>\n",
       "      <td>0.0</td>\n",
       "      <td>17.5</td>\n",
       "      <td>False</td>\n",
       "      <td>False</td>\n",
       "      <td>False</td>\n",
       "      <td>False</td>\n",
       "      <td>...</td>\n",
       "      <td>True</td>\n",
       "      <td>False</td>\n",
       "      <td>False</td>\n",
       "      <td>False</td>\n",
       "      <td>False</td>\n",
       "      <td>True</td>\n",
       "      <td>False</td>\n",
       "      <td>False</td>\n",
       "      <td>False</td>\n",
       "      <td>True</td>\n",
       "    </tr>\n",
       "    <tr>\n",
       "      <th>2681779</th>\n",
       "      <td>11.0</td>\n",
       "      <td>1024.0</td>\n",
       "      <td>27.0</td>\n",
       "      <td>0.0</td>\n",
       "      <td>0.0</td>\n",
       "      <td>6.8</td>\n",
       "      <td>False</td>\n",
       "      <td>False</td>\n",
       "      <td>False</td>\n",
       "      <td>False</td>\n",
       "      <td>...</td>\n",
       "      <td>False</td>\n",
       "      <td>False</td>\n",
       "      <td>False</td>\n",
       "      <td>False</td>\n",
       "      <td>True</td>\n",
       "      <td>False</td>\n",
       "      <td>False</td>\n",
       "      <td>False</td>\n",
       "      <td>False</td>\n",
       "      <td>True</td>\n",
       "    </tr>\n",
       "  </tbody>\n",
       "</table>\n",
       "<p>2681780 rows × 401 columns</p>\n",
       "</div>"
      ],
      "text/plain": [
       "         DepDelay  Distance  TaxiOut  precipitation_hours  snowfall_sum  \\\n",
       "0            81.0     802.0     24.0                  5.0           0.0   \n",
       "1             0.0    2288.0     13.0                  0.0           0.0   \n",
       "2            -7.0     677.0      6.0                  0.0           0.0   \n",
       "3            -1.0     872.0     11.0                  0.0           0.0   \n",
       "4            -4.0     745.0     10.0                  2.0           0.0   \n",
       "...           ...       ...      ...                  ...           ...   \n",
       "2681775       7.0     717.0     13.0                  7.0           0.0   \n",
       "2681776       8.0    1587.0     13.0                  0.0           0.0   \n",
       "2681777      -4.0    1235.0     10.0                 23.0           0.0   \n",
       "2681778      -7.0     804.0     10.0                  0.0           0.0   \n",
       "2681779      11.0    1024.0     27.0                  0.0           0.0   \n",
       "\n",
       "         wind_speed  Origin_ABE  Origin_ABI  Origin_ABQ  Origin_ABY  ...  \\\n",
       "0              25.2       False       False       False       False  ...   \n",
       "1              27.4       False       False       False       False  ...   \n",
       "2              23.3       False       False       False       False  ...   \n",
       "3              20.1       False       False       False       False  ...   \n",
       "4              10.8       False       False       False       False  ...   \n",
       "...             ...         ...         ...         ...         ...  ...   \n",
       "2681775        19.9       False       False       False       False  ...   \n",
       "2681776        24.0       False       False       False       False  ...   \n",
       "2681777        12.5       False       False       False       False  ...   \n",
       "2681778        17.5       False       False       False       False  ...   \n",
       "2681779         6.8       False       False       False       False  ...   \n",
       "\n",
       "         CRSMonthDep_8  CRSMonthDep_9  CRSYearDep_2003  CRSYearDep_2004  \\\n",
       "0                False          False            False            False   \n",
       "1                False          False            False            False   \n",
       "2                False          False            False            False   \n",
       "3                False          False            False            False   \n",
       "4                 True          False            False             True   \n",
       "...                ...            ...              ...              ...   \n",
       "2681775          False          False            False            False   \n",
       "2681776          False          False            False            False   \n",
       "2681777          False          False            False             True   \n",
       "2681778           True          False            False            False   \n",
       "2681779          False          False            False            False   \n",
       "\n",
       "         CRSYearDep_2005  CRSYearDep_2006  CRSYearDep_2007  CRSYearDep_2008  \\\n",
       "0                  False             True            False            False   \n",
       "1                  False            False             True            False   \n",
       "2                  False            False             True            False   \n",
       "3                  False             True            False            False   \n",
       "4                  False            False            False            False   \n",
       "...                  ...              ...              ...              ...   \n",
       "2681775            False             True            False            False   \n",
       "2681776            False            False             True            False   \n",
       "2681777            False            False            False            False   \n",
       "2681778            False             True            False            False   \n",
       "2681779             True            False            False            False   \n",
       "\n",
       "         WeatherCategory_dangerous_codes  WeatherCategory_safe_codes  \n",
       "0                                  False                        True  \n",
       "1                                  False                        True  \n",
       "2                                  False                        True  \n",
       "3                                  False                        True  \n",
       "4                                  False                        True  \n",
       "...                                  ...                         ...  \n",
       "2681775                            False                        True  \n",
       "2681776                            False                        True  \n",
       "2681777                            False                        True  \n",
       "2681778                            False                        True  \n",
       "2681779                            False                        True  \n",
       "\n",
       "[2681780 rows x 401 columns]"
      ]
     },
     "execution_count": 9,
     "metadata": {},
     "output_type": "execute_result"
    }
   ],
   "source": [
    "df_encoded = pd.get_dummies(df_cleaned, columns = ['Origin', 'Region', 'CRSMonthDep', 'CRSYearDep', 'WeatherCategory'])\n",
    "df_encoded"
   ]
  },
  {
   "cell_type": "markdown",
   "id": "f3138c1d",
   "metadata": {},
   "source": [
    "## Scaling"
   ]
  },
  {
   "cell_type": "code",
   "execution_count": 10,
   "id": "0e7ee158",
   "metadata": {},
   "outputs": [],
   "source": [
    "X = df_encoded.drop(columns=['DepDelay'])\n",
    "y = df_encoded['DepDelay']"
   ]
  },
  {
   "cell_type": "code",
   "execution_count": 11,
   "id": "b19e4b93",
   "metadata": {
    "scrolled": true
   },
   "outputs": [],
   "source": [
    "scalerX = StandardScaler().fit(X[['Distance', 'TaxiOut', 'precipitation_hours', 'snowfall_sum', 'wind_speed']])\n",
    "                               \n",
    "X[['Distance', 'TaxiOut', 'precipitation_hours', 'snowfall_sum', 'wind_speed']] = scalerX.transform(X[['Distance', 'TaxiOut', 'precipitation_hours', 'snowfall_sum', 'wind_speed']])\n",
    "                               "
   ]
  },
  {
   "cell_type": "code",
   "execution_count": 12,
   "id": "1b7597e0",
   "metadata": {},
   "outputs": [],
   "source": [
    "y = y.array.reshape(-1, 1)\n",
    "scalery = StandardScaler().fit(y)\n",
    "y = scalery.transform(y)"
   ]
  },
  {
   "cell_type": "code",
   "execution_count": 13,
   "id": "a9400b2a",
   "metadata": {},
   "outputs": [],
   "source": [
    "\n",
    "\n",
    "# df_cleaned[['DepDelay', 'Distance', 'TaxiOut', 'precipitation_hours', 'snowfall_sum', 'wind_speed']] = scaler.fit_transform(df_cleaned[['DepDelay', 'Distance', 'TaxiOut', 'precipitation_hours', 'snowfall_sum', 'wind_speed']])"
   ]
  },
  {
   "cell_type": "markdown",
   "id": "b2f64103",
   "metadata": {},
   "source": [
    "# Model"
   ]
  },
  {
   "cell_type": "markdown",
   "id": "632d2bdf",
   "metadata": {},
   "source": [
    "## Train test Split"
   ]
  },
  {
   "cell_type": "code",
   "execution_count": 14,
   "id": "fc610e98",
   "metadata": {},
   "outputs": [],
   "source": [
    "X_train, X_test, y_train, y_test = train_test_split(X, y.flatten(), test_size=0.2, random_state=42)"
   ]
  },
  {
   "cell_type": "markdown",
   "id": "47f08359",
   "metadata": {},
   "source": [
    "## Linear Regression ABORTED"
   ]
  },
  {
   "cell_type": "code",
   "execution_count": 15,
   "id": "adc82abf",
   "metadata": {},
   "outputs": [],
   "source": [
    "# lr = LinearRegression()\n",
    "# lr.fit(X_train, y_train)"
   ]
  },
  {
   "cell_type": "code",
   "execution_count": 16,
   "id": "03420f5f",
   "metadata": {},
   "outputs": [],
   "source": [
    "# lr.score(X_test, y_test)"
   ]
  },
  {
   "cell_type": "markdown",
   "id": "9c8b9ecd",
   "metadata": {},
   "source": [
    "## Decision Tree Regressor ABORTED"
   ]
  },
  {
   "cell_type": "code",
   "execution_count": 17,
   "id": "0ac7d659",
   "metadata": {},
   "outputs": [],
   "source": [
    "# clf = DecisionTreeRegressor(\n",
    "# #     max_depth=6,\n",
    "#     random_state=400\n",
    "# )"
   ]
  },
  {
   "cell_type": "code",
   "execution_count": 18,
   "id": "d93c1ec8",
   "metadata": {},
   "outputs": [],
   "source": [
    "# clf = clf.fit(X_train, y_train)"
   ]
  },
  {
   "cell_type": "code",
   "execution_count": 19,
   "id": "372d0866",
   "metadata": {},
   "outputs": [],
   "source": [
    "# clf.score(X_test, y_test)"
   ]
  },
  {
   "cell_type": "markdown",
   "id": "1a8b5564",
   "metadata": {},
   "source": [
    "# Neural Network"
   ]
  },
  {
   "cell_type": "code",
   "execution_count": 20,
   "id": "55a87b1e",
   "metadata": {},
   "outputs": [
    {
     "name": "stdout",
     "output_type": "stream",
     "text": [
      "Model: \"sequential\"\n",
      "_________________________________________________________________\n",
      " Layer (type)                Output Shape              Param #   \n",
      "=================================================================\n",
      " dense (Dense)               (None, 64)                25664     \n",
      "                                                                 \n",
      " dense_1 (Dense)             (None, 1)                 65        \n",
      "                                                                 \n",
      "=================================================================\n",
      "Total params: 25729 (100.50 KB)\n",
      "Trainable params: 25729 (100.50 KB)\n",
      "Non-trainable params: 0 (0.00 Byte)\n",
      "_________________________________________________________________\n"
     ]
    }
   ],
   "source": [
    "model = Sequential([\n",
    "    Dense(64, activation='relu', input_shape=(400,)),\n",
    "    Dense(1)\n",
    "])\n",
    "model.summary()"
   ]
  },
  {
   "cell_type": "code",
   "execution_count": 21,
   "id": "4f94b2d1",
   "metadata": {},
   "outputs": [],
   "source": [
    "X_train = X_train.astype('float32')\n",
    "# y = y.astype('float32')"
   ]
  },
  {
   "cell_type": "code",
   "execution_count": 22,
   "id": "6a7648eb",
   "metadata": {},
   "outputs": [],
   "source": []
  },
  {
   "cell_type": "code",
   "execution_count": 23,
   "id": "7bc519fb",
   "metadata": {},
   "outputs": [],
   "source": [
    "model.compile(optimizer='adam', loss='mean_squared_error')"
   ]
  },
  {
   "cell_type": "code",
   "execution_count": 24,
   "id": "c0279f68",
   "metadata": {
    "scrolled": true
   },
   "outputs": [
    {
     "name": "stdout",
     "output_type": "stream",
     "text": [
      "Epoch 1/10\n",
      "53636/53636 [==============================] - 172s 3ms/step - loss: 0.9099 - val_loss: 0.8860\n",
      "Epoch 2/10\n",
      "53636/53636 [==============================] - 182s 3ms/step - loss: 0.9046 - val_loss: 0.8859\n",
      "Epoch 3/10\n",
      "53636/53636 [==============================] - 177s 3ms/step - loss: 0.9027 - val_loss: 0.8832\n",
      "Epoch 4/10\n",
      "53636/53636 [==============================] - 163s 3ms/step - loss: 0.9014 - val_loss: 0.8840\n",
      "Epoch 5/10\n",
      "53636/53636 [==============================] - 168s 3ms/step - loss: 0.9008 - val_loss: 0.8834\n",
      "Epoch 6/10\n",
      "53636/53636 [==============================] - 185s 3ms/step - loss: 0.9002 - val_loss: 0.8834\n",
      "Epoch 7/10\n",
      "53636/53636 [==============================] - 182s 3ms/step - loss: 0.8998 - val_loss: 0.8827\n",
      "Epoch 8/10\n",
      "53636/53636 [==============================] - 162s 3ms/step - loss: 0.8995 - val_loss: 0.8834\n",
      "Epoch 9/10\n",
      "53636/53636 [==============================] - 161s 3ms/step - loss: 0.8992 - val_loss: 0.8827\n",
      "Epoch 10/10\n",
      "53636/53636 [==============================] - 182s 3ms/step - loss: 0.8989 - val_loss: 0.8815\n"
     ]
    },
    {
     "data": {
      "text/plain": [
       "<keras.src.callbacks.History at 0x1aabaa71690>"
      ]
     },
     "execution_count": 24,
     "metadata": {},
     "output_type": "execute_result"
    }
   ],
   "source": [
    "model.fit(X_train, y_train, epochs=10, batch_size=32, validation_split=0.2, verbose=1)"
   ]
  },
  {
   "cell_type": "code",
   "execution_count": 26,
   "id": "0b46d8eb",
   "metadata": {},
   "outputs": [
    {
     "name": "stdout",
     "output_type": "stream",
     "text": [
      "16762/16762 [==============================] - 32s 2ms/step - loss: 0.9089\n"
     ]
    },
    {
     "data": {
      "text/plain": [
       "0.9088836908340454"
      ]
     },
     "execution_count": 26,
     "metadata": {},
     "output_type": "execute_result"
    }
   ],
   "source": [
    "X_test = X_test.astype('float32')\n",
    "\n",
    "model.evaluate(X_test, y_test)"
   ]
  },
  {
   "cell_type": "code",
   "execution_count": 27,
   "id": "6e8621e9",
   "metadata": {},
   "outputs": [
    {
     "data": {
      "text/plain": [
       "{'loss': <tf.Tensor: shape=(), dtype=float32, numpy=0.9088837>}"
      ]
     },
     "execution_count": 27,
     "metadata": {},
     "output_type": "execute_result"
    }
   ],
   "source": [
    "model.save_weights(\n",
    ")"
   ]
  },
  {
   "cell_type": "markdown",
   "id": "b6060f2e",
   "metadata": {},
   "source": [
    "https://stackoverflow.com/questions/38058774/scikit-learn-how-to-scale-back-the-y-predicted-result"
   ]
  }
 ],
 "metadata": {
  "kernelspec": {
   "display_name": "Python 3 (ipykernel)",
   "language": "python",
   "name": "python3"
  },
  "language_info": {
   "codemirror_mode": {
    "name": "ipython",
    "version": 3
   },
   "file_extension": ".py",
   "mimetype": "text/x-python",
   "name": "python",
   "nbconvert_exporter": "python",
   "pygments_lexer": "ipython3",
   "version": "3.11.5"
  }
 },
 "nbformat": 4,
 "nbformat_minor": 5
}
